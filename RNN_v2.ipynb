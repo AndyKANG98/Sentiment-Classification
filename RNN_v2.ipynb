{
 "cells": [
  {
   "cell_type": "code",
   "execution_count": 1,
   "metadata": {},
   "outputs": [
    {
     "name": "stderr",
     "output_type": "stream",
     "text": [
      "Using TensorFlow backend.\n"
     ]
    }
   ],
   "source": [
    "import os\n",
    "import nltk\n",
    "import math\n",
    "import pandas as pd\n",
    "import numpy as np\n",
    "import keras\n",
    "import tensorflow as tf\n",
    "import matplotlib.pyplot as plt\n",
    "from collections import Counter\n",
    "from itertools import chain\n",
    "from sklearn.model_selection import StratifiedKFold\n",
    "from sklearn.metrics import accuracy_score, f1_score\n",
    "from keras.models import Sequential, Model\n",
    "from keras.layers import Dense, Activation, Embedding, Dropout, BatchNormalization, Input, Add, Concatenate,\\\n",
    "    Bidirectional, SimpleRNN, LSTM, GRU\n",
    "from keras_layer_normalization import LayerNormalization\n",
    "from nltk.corpus import stopwords\n",
    "from nltk.stem import PorterStemmer\n",
    "from string import punctuation\n",
    "\n",
    "\n",
    "stopwords = set(stopwords.words(\"english\"))\n",
    "ps = PorterStemmer()"
   ]
  },
  {
   "cell_type": "code",
   "execution_count": 1,
   "metadata": {},
   "outputs": [],
   "source": [
    "!pip3 install -q gensim==3.2.0"
   ]
  },
  {
   "cell_type": "markdown",
   "metadata": {},
   "source": [
    "## Data Loader"
   ]
  },
  {
   "cell_type": "code",
   "execution_count": 2,
   "metadata": {},
   "outputs": [],
   "source": [
    "def load_data(file_name):\n",
    "    \n",
    "    df = pd.read_csv(file_name)\n",
    "\n",
    "    return df[\"review_id\"], df[\"text\"], df[\"stars\"]\n",
    "\n",
    "def write_predictions(file_name, pred, text):\n",
    "    d = {'review_id': text, 'stars': pred}\n",
    "    df = pd.DataFrame(d)\n",
    "    df.to_csv(file_name, index=False)"
   ]
  },
  {
   "cell_type": "markdown",
   "metadata": {},
   "source": [
    "## Feature Extractor"
   ]
  },
  {
   "cell_type": "markdown",
   "metadata": {},
   "source": [
    "- Token, Stemming, Stopwords, Punctuation"
   ]
  },
  {
   "cell_type": "code",
   "execution_count": 3,
   "metadata": {},
   "outputs": [],
   "source": [
    "def tokenize(text):\n",
    "    \n",
    "    return nltk.word_tokenize(text)\n",
    "\n",
    "def stem(tokens):\n",
    "    \n",
    "    return [ps.stem(token).lower() for token in tokens]\n",
    "\n",
    "def filter_stopwords(tokens):\n",
    "\n",
    "    return [token for token in tokens if token not in stopwords and not token.isnumeric()]\n",
    "\n",
    "def remove_punc(tokens):\n",
    "    \n",
    "    return ''.join([token.lower() for token in tokens if token not in punctuation])"
   ]
  },
  {
   "cell_type": "code",
   "execution_count": 4,
   "metadata": {},
   "outputs": [],
   "source": [
    "def get_feats_dict(feats, min_freq=-1, max_freq=-1, max_size=-1):\n",
    "    \"\"\"\n",
    "    :param data: a list of features, type: list(list)\n",
    "    :param min_freq: the lowest fequency that the fequency of a feature smaller than it will be filtered out, type: int\n",
    "    :param max_freq: the highest fequency that the fequency of a feature larger than it will be filtered out, type: int\n",
    "    :param max_size: the max size of feature dict, type: int\n",
    "    return a feature dict that maps features to indices, sorted by frequencies\n",
    "    # Counter document: https://docs.python.org/3.6/library/collections.html#collections.Counter\n",
    "    \"\"\"\n",
    "    # count all features\n",
    "    feat_cnt = Counter(feats) # [\"text\", \"text\", \"mine\"] --> {\"text\": 2, \"mine\": 1}\n",
    "    if max_size > 0 and min_freq == -1 and max_freq == -1:\n",
    "        valid_feats = [\"<pad>\", \"<unk>\"] + [f for f, cnt in feat_cnt.most_common(max_size-2)]\n",
    "    else:\n",
    "        valid_feats = [\"<pad>\", \"<unk>\"]\n",
    "        for f, cnt in feat_cnt.most_common():\n",
    "            if (min_freq == -1 or cnt >= min_freq) and \\\n",
    "                (max_freq == -1 or cnt <= max_freq):\n",
    "                valid_feats.append(f)\n",
    "    if max_size > 0 and len(valid_feats) > max_size:\n",
    "        valid_feats = valid_feats[:max_size]\n",
    "    print(\"Size of features:\", len(valid_feats))\n",
    "    \n",
    "    # build a mapping from features to indices\n",
    "    feats_dict = dict(zip(valid_feats, range(len(valid_feats))))\n",
    "    return feats_dict\n",
    "\n",
    "def get_index_vector(feats, feats_dict, max_len):\n",
    "    \"\"\"\n",
    "    :param feats: a list of features, type: list\n",
    "    :param feats_dict: a dict from features to indices, type: dict\n",
    "    :param feats: a list of features, type: list\n",
    "    return a feature vector,\n",
    "    \"\"\"\n",
    "    # initialize the vector as all zeros\n",
    "    vector = np.zeros(max_len, dtype=np.int64)\n",
    "    for i, f in enumerate(feats):\n",
    "        if i == max_len:\n",
    "            break\n",
    "        # get the feature index, return 1 (<unk>) if the feature is not existed\n",
    "        f_idx = feats_dict.get(f, 1)\n",
    "        vector[i] = f_idx\n",
    "    return vector"
   ]
  },
  {
   "cell_type": "markdown",
   "metadata": {},
   "source": [
    "## Classifier: RNN"
   ]
  },
  {
   "cell_type": "code",
   "execution_count": 5,
   "metadata": {},
   "outputs": [],
   "source": [
    "def build_RNN(input_length, vocab_size, embedding_size,\n",
    "              hidden_size, output_size,\n",
    "              num_rnn_layers, num_mlp_layers,\n",
    "              rnn_type=\"lstm\",\n",
    "              bidirectional=False,\n",
    "              embedding_matrix=None,\n",
    "              activation=\"tanh\",\n",
    "              dropout_rate=0.0,\n",
    "              batch_norm=False,                        \n",
    "              l2_reg=0.0,\n",
    "              loss=\"categorical_crossentropy\",\n",
    "              optimizer=\"Adam\",\n",
    "              learning_rate=0.001,\n",
    "              metric=\"accuracy\"):\n",
    "    \"\"\"\n",
    "    :param input_length: the maximum length of sentences, type: int\n",
    "    :param vocab_size: the vacabulary size, type: int\n",
    "    :param embedding_size: the dimension of word representations, type: int\n",
    "    :param hidden_size: the dimension of the hidden states, type: int\n",
    "    :param output_size: the dimension of the prediction, type: int\n",
    "    :param num_rnn_layers: the number of layers of the RNN, type: int\n",
    "    :param num_mlp_layers: the number of layers of the MLP, type: int\n",
    "    :param rnn_type: the type of RNN, type: str\n",
    "    :param bidirectional: whether to use bidirectional rnn, type: bool\n",
    "    :param activation: the activation type, type: str\n",
    "    :param dropout_rate: the probability of dropout, type: float\n",
    "    :param batch_norm: whether to enable batch normalization, type: bool\n",
    "    :param l2_reg: the weight for the L2 regularizer, type: str\n",
    "    :param loss: the training loss, type: str\n",
    "    :param optimizer: the optimizer, type: str\n",
    "    :param learning_rate: the learning rate for the optimizer, type: float\n",
    "    :param metric: the metric, type: str\n",
    "    return a RNN for text classification,\n",
    "    # activation document: https://keras.io/activations/\n",
    "    # dropout document: https://keras.io/layers/core/#dropout\n",
    "    # embedding document: https://keras.io/layers/embeddings/#embedding\n",
    "    # recurrent layers document: https://keras.io/layers/recurrent\n",
    "    # batch normalization document: https://keras.io/layers/normalization/\n",
    "    # losses document: https://keras.io/losses/\n",
    "    # optimizers document: https://keras.io/optimizers/\n",
    "    # metrics document: https://keras.io/metrics/\n",
    "    \"\"\"\n",
    "    x = Input(shape=(input_length,))\n",
    "    \n",
    "    ################################\n",
    "    ###### Word Representation #####\n",
    "    ################################\n",
    "    # word representation layer\n",
    "    if embedding_matrix is not None:\n",
    "        emb = Embedding(input_dim=vocab_size,\n",
    "                        output_dim=embedding_size,\n",
    "                        input_length=input_length,\n",
    "                        embeddings_initializer=keras.initializers.Constant(embedding_matrix),\n",
    "                        trainable=False)(x)\n",
    "    else:\n",
    "        emb = Embedding(input_dim=vocab_size,\n",
    "                        output_dim=embedding_size,\n",
    "                        input_length=input_length,\n",
    "                        embeddings_initializer=keras.initializers.TruncatedNormal(mean=0.0, stddev=0.1, seed=0))(x)\n",
    "    \n",
    "    ################################\n",
    "    ####### Recurrent Layers #######\n",
    "    ################################\n",
    "    # recurrent layers\n",
    "    if rnn_type == \"rnn\":\n",
    "        fn = SimpleRNN\n",
    "    elif rnn_type == \"lstm\":\n",
    "        fn = LSTM\n",
    "    elif rnn_type == \"gru\":\n",
    "        fn = GRU\n",
    "    else:\n",
    "        raise NotImplementedError\n",
    "    h = emb\n",
    "    for i in range(num_rnn_layers):\n",
    "        is_last = (i == num_rnn_layers-1)\n",
    "        if bidirectional:\n",
    "            h = Bidirectional(fn(hidden_size,\n",
    "                                 kernel_initializer=keras.initializers.glorot_uniform(seed=0),\n",
    "                                 recurrent_initializer=keras.initializers.Orthogonal(gain=1.0, seed=0),\n",
    "                                 return_sequences=not is_last))(h)\n",
    "        else:\n",
    "            h = fn(hidden_size,\n",
    "                   kernel_initializer=keras.initializers.glorot_uniform(seed=0),\n",
    "                   recurrent_initializer=keras.initializers.Orthogonal(gain=1.0, seed=0),\n",
    "                   return_sequences=not is_last)(h)\n",
    "        h = Dropout(dropout_rate, seed=0)(h)\n",
    "    \n",
    "    ################################\n",
    "    #### Fully Connected Layers ####\n",
    "    ################################\n",
    "    # multi-layer perceptron\n",
    "    for i in range(num_mlp_layers-1):\n",
    "        new_h = Dense(hidden_size,\n",
    "                      kernel_initializer=keras.initializers.Orthogonal(gain=1.0, seed=0),    ## He initializer\n",
    "                      bias_initializer=\"zeros\",\n",
    "                      kernel_regularizer=keras.regularizers.l2(l2_reg))(h)\n",
    "        # add batch normalization layer\n",
    "        if batch_norm:\n",
    "            new_h = BatchNormalization()(new_h)\n",
    "        # add residual connection\n",
    "        if i == 0:\n",
    "            h = new_h\n",
    "        else:\n",
    "            h = Add()([h, new_h])\n",
    "        # add activation\n",
    "        h = Activation(activation)(h)\n",
    "    y = Dense(output_size,\n",
    "              activation=\"softmax\",\n",
    "              kernel_initializer=keras.initializers.Orthogonal(gain=1.0, seed=0),      ## He initializer\n",
    "              bias_initializer=\"zeros\")(h)\n",
    "    \n",
    "    # set the loss, the optimizer, and the metric\n",
    "    if optimizer == \"SGD\":\n",
    "        optimizer = keras.optimizers.SGD(lr=learning_rate)\n",
    "    elif optimizer == \"RMSprop\":\n",
    "        optmizer = keras.optimizers.RMSprop(learning_rate=learning_rate)\n",
    "    elif optimizer == \"Adam\":\n",
    "        optmizer = keras.optimizers.Adam(learning_rate=learning_rate)\n",
    "    else:\n",
    "        raise NotImplementedError\n",
    "    model = Model(x, y)\n",
    "    model.compile(loss=loss, optimizer=optimizer, metrics=[metric])\n",
    "    \n",
    "    return model"
   ]
  },
  {
   "cell_type": "markdown",
   "metadata": {},
   "source": [
    "## Tryout_1, Self-trained Word2Vec Embedding"
   ]
  },
  {
   "cell_type": "code",
   "execution_count": 6,
   "metadata": {},
   "outputs": [],
   "source": [
    "train_file = \"data/train.csv\"\n",
    "valid_file = \"data/valid.csv\"\n",
    "test_file = \"data/test.csv\"\n",
    "\n",
    "# load data\n",
    "train_ids, train_texts, train_labels = load_data(train_file)\n",
    "valid_ids, valid_texts, valid_labels = load_data(valid_file)\n",
    "test_ids, test_texts, test_labels = load_data(test_file)"
   ]
  },
  {
   "cell_type": "code",
   "execution_count": 30,
   "metadata": {},
   "outputs": [],
   "source": [
    "# extract features\n",
    "train_no_punc = [remove_punc(text) for text in train_texts]\n",
    "valid_no_punc = [remove_punc(text) for text in valid_texts]\n",
    "test_no_punc = [remove_punc(text) for text in test_texts]"
   ]
  },
  {
   "cell_type": "code",
   "execution_count": 31,
   "metadata": {},
   "outputs": [],
   "source": [
    "train_tokens = [tokenize(text) for text in train_no_punc]\n",
    "valid_tokens = [tokenize(text) for text in valid_no_punc]\n",
    "test_tokens = [tokenize(text) for text in test_no_punc]\n",
    "\n",
    "train_stop = [filter_stopwords(tokens) for tokens in train_tokens]\n",
    "valid_stop = [filter_stopwords(tokens) for tokens in valid_tokens]\n",
    "test_stop = [filter_stopwords(tokens) for tokens in test_tokens]\n",
    "\n",
    "train_stemmed = [stem(tokens) for tokens in train_stop]\n",
    "valid_stemmed = [stem(tokens) for tokens in valid_stop]\n",
    "test_stemmed = [stem(tokens) for tokens in test_stop]"
   ]
  },
  {
   "cell_type": "code",
   "execution_count": 32,
   "metadata": {},
   "outputs": [],
   "source": [
    "train_feats = train_stemmed\n",
    "valid_feats = valid_stemmed\n",
    "test_feats = test_stemmed"
   ]
  },
  {
   "cell_type": "code",
   "execution_count": 33,
   "metadata": {},
   "outputs": [
    {
     "name": "stdout",
     "output_type": "stream",
     "text": [
      "Size of features: 11996\n"
     ]
    }
   ],
   "source": [
    "min_freq = 3\n",
    "# build a mapping from features to indices\n",
    "feats_dict = get_feats_dict(\n",
    "    chain.from_iterable(train_feats),\n",
    "    min_freq=min_freq)"
   ]
  },
  {
   "cell_type": "code",
   "execution_count": 34,
   "metadata": {},
   "outputs": [
    {
     "data": {
      "image/png": "[encoded data removed]",
      "text/plain": [
       "<Figure size 432x288 with 1 Axes>"
      ]
     },
     "metadata": {
      "needs_background": "light"
     },
     "output_type": "display_data"
    },
    {
     "data": {
      "text/plain": [
       "count    20000.000000\n",
       "mean        56.599950\n",
       "std         52.410665\n",
       "min          1.000000\n",
       "25%         23.000000\n",
       "50%         40.000000\n",
       "75%         72.000000\n",
       "max        543.000000\n",
       "dtype: float64"
      ]
     },
     "execution_count": 34,
     "metadata": {},
     "output_type": "execute_result"
    }
   ],
   "source": [
    "reviews_len = [len(x) for x in train_feats]\n",
    "pd.Series(reviews_len).hist()\n",
    "plt.show()\n",
    "pd.Series(reviews_len).describe()"
   ]
  },
  {
   "cell_type": "code",
   "execution_count": 35,
   "metadata": {},
   "outputs": [],
   "source": [
    "max_len = 150\n",
    "\n",
    "# build the feats_matrix\n",
    "# convert each example to a index vector, and then stack vectors as a matrix\n",
    "train_feats_matrix = np.vstack(\n",
    "    [get_index_vector(f, feats_dict, max_len) for f in train_feats])\n",
    "valid_feats_matrix = np.vstack(\n",
    "    [get_index_vector(f, feats_dict, max_len) for f in valid_feats])\n",
    "test_feats_matrix = np.vstack(\n",
    "    [get_index_vector(f, feats_dict, max_len) for f in test_feats])\n",
    "\n",
    "# convert labels to label_matrix\n",
    "num_classes = max(train_labels)\n",
    "# convert each label to a ont-hot vector, and then stack vectors as a matrix\n",
    "train_label_matrix = keras.utils.to_categorical(train_labels-1, num_classes=num_classes)\n",
    "valid_label_matrix = keras.utils.to_categorical(valid_labels-1, num_classes=num_classes)"
   ]
  },
  {
   "cell_type": "markdown",
   "metadata": {},
   "source": [
    "- Try LSTM"
   ]
  },
  {
   "cell_type": "code",
   "execution_count": 36,
   "metadata": {},
   "outputs": [
    {
     "name": "stderr",
     "output_type": "stream",
     "text": [
      "/Users/zouhaoxiang/Library/Python/3.6/lib/python/site-packages/tensorflow_core/python/framework/indexed_slices.py:433: UserWarning: Converting sparse IndexedSlices to a dense Tensor of unknown shape. This may consume a large amount of memory.\n",
      "  \"Converting sparse IndexedSlices to a dense Tensor of unknown shape. \"\n"
     ]
    },
    {
     "name": "stdout",
     "output_type": "stream",
     "text": [
      "Epoch 00026: early stopping\n"
     ]
    },
    {
     "name": "stderr",
     "output_type": "stream",
     "text": [
      "/Users/zouhaoxiang/Library/Python/3.6/lib/python/site-packages/tensorflow_core/python/framework/indexed_slices.py:433: UserWarning: Converting sparse IndexedSlices to a dense Tensor of unknown shape. This may consume a large amount of memory.\n",
      "  \"Converting sparse IndexedSlices to a dense Tensor of unknown shape. \"\n"
     ]
    },
    {
     "name": "stdout",
     "output_type": "stream",
     "text": [
      "20000/20000 [==============================] - 50s 3ms/step\n",
      "2000/2000 [==============================] - 5s 3ms/step\n",
      "training loss: 0.5565972761809825 training accuracy 0.8151999711990356\n",
      "valid loss: 1.0095995485782623 valid accuracy 0.6019999980926514\n"
     ]
    }
   ],
   "source": [
    "os.makedirs(\"models\", exist_ok=True)\n",
    "model = build_RNN(input_length=max_len, vocab_size=len(feats_dict),\n",
    "                  embedding_size=128, hidden_size=256, output_size=num_classes,\n",
    "                  rnn_type=\"lstm\", num_rnn_layers=1, num_mlp_layers=2,\n",
    "                  activation=\"relu\",\n",
    "                  batch_norm=True,\n",
    "                  l2_reg=0.001, dropout_rate=0.5)\n",
    "checkpointer = keras.callbacks.ModelCheckpoint(\n",
    "    filepath=os.path.join(\"models\", \"weights.hdf5\"),\n",
    "    monitor=\"val_accuracy\",\n",
    "    verbose=0,\n",
    "    save_best_only=True)\n",
    "earlystopping = keras.callbacks.callbacks.EarlyStopping(\n",
    "    monitor='val_loss',\n",
    "    patience=10,\n",
    "    verbose=1)\n",
    "\n",
    "np.random.seed(0)\n",
    "tf.random.set_seed(0)\n",
    "lstm_history = model.fit(train_feats_matrix, train_label_matrix,\n",
    "                    validation_split=0.1,\n",
    "                    epochs=100, batch_size=100, verbose=0,\n",
    "                    callbacks=[checkpointer, earlystopping])\n",
    "model = keras.models.load_model(os.path.join(\"models\", \"weights.hdf5\"))\n",
    "\n",
    "train_score = model.evaluate(train_feats_matrix, train_label_matrix,\n",
    "                             batch_size=100)\n",
    "valid_score = model.evaluate(valid_feats_matrix, valid_label_matrix,\n",
    "                            batch_size=100)\n",
    "print(\"training loss:\", train_score[0], \"training accuracy\", train_score[1])\n",
    "print(\"valid loss:\", valid_score[0], \"valid accuracy\", valid_score[1])"
   ]
  },
  {
   "cell_type": "markdown",
   "metadata": {},
   "source": [
    "- Try Bi-LSTM"
   ]
  },
  {
   "cell_type": "code",
   "execution_count": 37,
   "metadata": {},
   "outputs": [
    {
     "name": "stderr",
     "output_type": "stream",
     "text": [
      "/Users/zouhaoxiang/Library/Python/3.6/lib/python/site-packages/tensorflow_core/python/framework/indexed_slices.py:433: UserWarning: Converting sparse IndexedSlices to a dense Tensor of unknown shape. This may consume a large amount of memory.\n",
      "  \"Converting sparse IndexedSlices to a dense Tensor of unknown shape. \"\n"
     ]
    },
    {
     "name": "stdout",
     "output_type": "stream",
     "text": [
      "Epoch 00013: early stopping\n"
     ]
    },
    {
     "name": "stderr",
     "output_type": "stream",
     "text": [
      "/Users/zouhaoxiang/Library/Python/3.6/lib/python/site-packages/tensorflow_core/python/framework/indexed_slices.py:433: UserWarning: Converting sparse IndexedSlices to a dense Tensor of unknown shape. This may consume a large amount of memory.\n",
      "  \"Converting sparse IndexedSlices to a dense Tensor of unknown shape. \"\n"
     ]
    },
    {
     "name": "stdout",
     "output_type": "stream",
     "text": [
      "20000/20000 [==============================] - 95s 5ms/step\n",
      "2000/2000 [==============================] - 9s 5ms/step\n",
      "training loss: 0.7195402020215989 training accuracy 0.7554000020027161\n",
      "valid loss: 1.0244504898786544 valid accuracy 0.612500011920929\n"
     ]
    }
   ],
   "source": [
    "os.makedirs(\"models\", exist_ok=True)\n",
    "model = build_RNN(input_length=max_len, vocab_size=len(feats_dict),\n",
    "                  embedding_size=128, hidden_size=256, output_size=num_classes,\n",
    "                  rnn_type=\"lstm\", num_rnn_layers=1, bidirectional=True, num_mlp_layers=2,\n",
    "                  activation=\"relu\",\n",
    "                  batch_norm=True,\n",
    "                  l2_reg=0.001, dropout_rate=0.5)\n",
    "checkpointer = keras.callbacks.ModelCheckpoint(\n",
    "    filepath=os.path.join(\"models\", \"weights.hdf5\"),\n",
    "    monitor=\"val_accuracy\",\n",
    "    verbose=0,\n",
    "    save_best_only=True)\n",
    "earlystopping = keras.callbacks.callbacks.EarlyStopping(\n",
    "    monitor='val_loss',\n",
    "    patience=10,\n",
    "    verbose=1)\n",
    "\n",
    "np.random.seed(0)\n",
    "tf.random.set_seed(0)\n",
    "bilstm_history = model.fit(train_feats_matrix, train_label_matrix,\n",
    "                    validation_split=0.1,\n",
    "                    epochs=100, batch_size=100, verbose=0,\n",
    "                    callbacks=[checkpointer, earlystopping])\n",
    "model = keras.models.load_model(os.path.join(\"models\", \"weights.hdf5\"))\n",
    "\n",
    "train_score = model.evaluate(train_feats_matrix, train_label_matrix,\n",
    "                             batch_size=100)\n",
    "valid_score = model.evaluate(valid_feats_matrix, valid_label_matrix,\n",
    "                            batch_size=100)\n",
    "print(\"training loss:\", train_score[0], \"training accuracy\", train_score[1])\n",
    "print(\"valid loss:\", valid_score[0], \"valid accuracy\", valid_score[1])"
   ]
  },
  {
   "cell_type": "code",
   "execution_count": 38,
   "metadata": {},
   "outputs": [
    {
     "data": {
      "image/png": "[encoded data removed]",
      "text/plain": [
       "<Figure size 720x288 with 2 Axes>"
      ]
     },
     "metadata": {
      "needs_background": "light"
     },
     "output_type": "display_data"
    }
   ],
   "source": [
    "plt.figure(figsize=(10,4))\n",
    "plt.subplot(1,2,1)\n",
    "plt.plot(lstm_history.history[\"loss\"], label=\"LSTM-training\", color=\"blue\", linestyle=\"dashed\")\n",
    "plt.plot(lstm_history.history[\"val_loss\"], label=\"LSTM-validation\", color=\"blue\")\n",
    "plt.plot(bilstm_history.history[\"loss\"], label=\"BiLSTM-training\", color=\"orange\", linestyle=\"dashed\")\n",
    "plt.plot(bilstm_history.history[\"val_loss\"], label=\"BiLSTM-validation\", color=\"orange\")\n",
    "plt.xlabel(\"Iteration\")\n",
    "plt.ylabel(\"Loss\")\n",
    "plt.legend()\n",
    "plt.subplot(1,2,2)\n",
    "plt.plot(lstm_history.history[\"accuracy\"], label=\"LSTM-training\", color=\"blue\", linestyle=\"dashed\")\n",
    "plt.plot(lstm_history.history[\"val_accuracy\"], label=\"LSTM-validation\", color=\"blue\")\n",
    "plt.plot(bilstm_history.history[\"accuracy\"], label=\"BiLSTM-training\", color=\"orange\", linestyle=\"dashed\")\n",
    "plt.plot(bilstm_history.history[\"val_accuracy\"], label=\"BiLSTM-validation\", color=\"orange\")\n",
    "plt.xlabel(\"Iteration\")\n",
    "plt.ylabel(\"Accuracy\")\n",
    "plt.legend()\n",
    "plt.show()"
   ]
  },
  {
   "cell_type": "markdown",
   "metadata": {},
   "source": [
    "- Built our own Embedding"
   ]
  },
  {
   "cell_type": "code",
   "execution_count": 39,
   "metadata": {},
   "outputs": [],
   "source": [
    "train_tokens_1 = [tokenize(text) for text in train_texts]\n",
    "valid_tokens_1 = [tokenize(text) for text in valid_texts]\n",
    "test_tokens_1 = [tokenize(text) for text in test_texts]\n",
    "\n",
    "train_stemmed_1 = [stem(tokens) for tokens in train_tokens_1]\n",
    "valid_stemmed_1 = [stem(tokens) for tokens in valid_tokens_1]\n",
    "test_stemmed_1 = [stem(tokens) for tokens in test_tokens_1]\n",
    "\n",
    "train_feats_1 = train_stemmed_1\n",
    "valid_feats_1 = valid_stemmed_1\n",
    "test_feats_1 = test_stemmed_1"
   ]
  },
  {
   "cell_type": "code",
   "execution_count": 40,
   "metadata": {},
   "outputs": [],
   "source": [
    "f = open(\"review.txt\",\"w\")\n",
    "for x in train_feats_1:\n",
    "    for y in x:\n",
    "        f.write(y)\n",
    "        f.write(\" \")\n",
    "    f.write(\"\\n\")      \n",
    "for a in valid_feats_1:\n",
    "    for b in a:\n",
    "        f.write(b)\n",
    "        f.write(\" \")\n",
    "    f.write(\"\\n\")      \n",
    "for c in test_feats_1:\n",
    "    for d in c:\n",
    "        f.write(d)\n",
    "        f.write(\" \")\n",
    "    f.write(\"\\n\")   \n",
    "f.close()"
   ]
  },
  {
   "cell_type": "markdown",
   "metadata": {},
   "source": [
    " ./fasttext skipgram -input review.txt -output model -dim 128 -minCount 3 -epoch 20"
   ]
  },
  {
   "cell_type": "code",
   "execution_count": 41,
   "metadata": {},
   "outputs": [
    {
     "name": "stdout",
     "output_type": "stream",
     "text": [
      "number of words: 14035 word dimension: 128\n"
     ]
    }
   ],
   "source": [
    "embedding_matrix_1 = np.zeros((len(feats_dict), 128), dtype=np.float32)\n",
    "with open(\"model.vec\", \"r\") as f:\n",
    "    n_words, n_dim = f.readline().split()\n",
    "    n_words, n_dim = int(n_words), int(n_dim) \n",
    "    print(\"number of words:\", n_words, \"word dimension:\", n_dim)\n",
    "    while True:\n",
    "        line = f.readline()\n",
    "        if not line:\n",
    "            break\n",
    "        word, vec = line.split(\" \", 1)\n",
    "        word_idx = feats_dict.get(word, -1)\n",
    "        if word_idx != -1:\n",
    "            embedding_matrix_1[word_idx] = np.array(vec.split(), dtype=np.float32)"
   ]
  },
  {
   "cell_type": "code",
   "execution_count": 42,
   "metadata": {},
   "outputs": [
    {
     "data": {
      "text/plain": [
       "array([[ 0.      ,  0.      ,  0.      , ...,  0.      ,  0.      ,\n",
       "         0.      ],\n",
       "       [ 0.      ,  0.      ,  0.      , ...,  0.      ,  0.      ,\n",
       "         0.      ],\n",
       "       [ 0.039279,  0.19171 ,  0.15541 , ...,  0.071704,  0.062258,\n",
       "         0.018505],\n",
       "       ...,\n",
       "       [-0.22374 ,  0.27493 , -0.19488 , ..., -0.35514 ,  0.42539 ,\n",
       "        -0.10917 ],\n",
       "       [-0.53849 ,  0.30492 , -0.2371  , ...,  0.35788 , -0.087121,\n",
       "         0.10214 ],\n",
       "       [ 0.24852 ,  0.44958 ,  0.31876 , ..., -0.11574 ,  0.084951,\n",
       "         0.12094 ]], dtype=float32)"
      ]
     },
     "execution_count": 42,
     "metadata": {},
     "output_type": "execute_result"
    }
   ],
   "source": [
    "embedding_matrix_1"
   ]
  },
  {
   "cell_type": "code",
   "execution_count": 44,
   "metadata": {},
   "outputs": [
    {
     "name": "stdout",
     "output_type": "stream",
     "text": [
      "Epoch 00020: early stopping\n",
      "20000/20000 [==============================] - 99s 5ms/step\n",
      "2000/2000 [==============================] - 10s 5ms/step\n",
      "training loss: 0.6622777763009071 training accuracy 0.7383000254631042\n",
      "valid loss: 0.9696588009595871 valid accuracy 0.6345000267028809\n"
     ]
    }
   ],
   "source": [
    "os.makedirs(\"models\", exist_ok=True)\n",
    "model = build_RNN(input_length=max_len, vocab_size=len(feats_dict),\n",
    "                  embedding_size=128, hidden_size=256, output_size=num_classes,\n",
    "                  rnn_type=\"lstm\", num_rnn_layers=1, bidirectional= True, num_mlp_layers=2,\n",
    "                  embedding_matrix=embedding_matrix_1,\n",
    "                  activation=\"relu\",\n",
    "                  batch_norm=True,\n",
    "                  l2_reg=0.001, dropout_rate=0.5)\n",
    "checkpointer = keras.callbacks.ModelCheckpoint(\n",
    "    filepath=os.path.join(\"models\", \"weights.hdf5\"),\n",
    "    monitor=\"val_accuracy\",\n",
    "    verbose=0,\n",
    "    save_best_only=True)\n",
    "earlystopping = keras.callbacks.callbacks.EarlyStopping(\n",
    "    monitor='val_loss',\n",
    "    patience=10,\n",
    "    verbose=1)\n",
    "\n",
    "np.random.seed(0)\n",
    "tf.random.set_seed(0)\n",
    "word2vec_bilstm_history = model.fit(train_feats_matrix, train_label_matrix,\n",
    "                                    validation_split=0.1,\n",
    "                                    epochs=100, batch_size=100, verbose=0,\n",
    "                                    callbacks=[checkpointer, earlystopping])\n",
    "model = keras.models.load_model(os.path.join(\"models\", \"weights.hdf5\"))\n",
    "\n",
    "train_score = model.evaluate(train_feats_matrix, train_label_matrix,\n",
    "                             batch_size=100)\n",
    "valid_score = model.evaluate(valid_feats_matrix, valid_label_matrix,\n",
    "                            batch_size=100)\n",
    "print(\"training loss:\", train_score[0], \"training accuracy\", train_score[1])\n",
    "print(\"valid loss:\", valid_score[0], \"valid accuracy\", valid_score[1])"
   ]
  },
  {
   "cell_type": "code",
   "execution_count": 45,
   "metadata": {},
   "outputs": [
    {
     "data": {
      "image/png": "[encoded data removed]",
      "text/plain": [
       "<Figure size 720x288 with 2 Axes>"
      ]
     },
     "metadata": {
      "needs_background": "light"
     },
     "output_type": "display_data"
    }
   ],
   "source": [
    "plt.figure(figsize=(10,4))\n",
    "plt.subplot(1,2,1)\n",
    "plt.plot(bilstm_history.history[\"loss\"], label=\"BiLSTM-training\", color=\"blue\", linestyle=\"dashed\")\n",
    "plt.plot(bilstm_history.history[\"val_loss\"], label=\"BiLSTM-validation\", color=\"blue\")\n",
    "plt.plot(word2vec_bilstm_history.history[\"loss\"], label=\"Word2Vec+BiLSTM-training\", color=\"orange\", linestyle=\"dashed\")\n",
    "plt.plot(word2vec_bilstm_history.history[\"val_loss\"], label=\"Word2Vec+BiLSTM-validation\", color=\"orange\")\n",
    "plt.xlabel(\"Iteration\")\n",
    "plt.ylabel(\"Loss\")\n",
    "plt.legend()\n",
    "plt.subplot(1,2,2)\n",
    "plt.plot(bilstm_history.history[\"accuracy\"], label=\"BiLSTM-training\", color=\"blue\", linestyle=\"dashed\")\n",
    "plt.plot(bilstm_history.history[\"val_accuracy\"], label=\"BiLSTM-validation\", color=\"blue\")\n",
    "plt.plot(word2vec_bilstm_history.history[\"accuracy\"], label=\"Word2Vec+BiLSTM-training\", color=\"orange\", linestyle=\"dashed\")\n",
    "plt.plot(word2vec_bilstm_history.history[\"val_accuracy\"], label=\"Word2Vec+BiLSTM-validation\", color=\"orange\")\n",
    "plt.xlabel(\"Iteration\")\n",
    "plt.ylabel(\"Accuracy\")\n",
    "plt.legend()\n",
    "plt.show()"
   ]
  },
  {
   "cell_type": "markdown",
   "metadata": {},
   "source": [
    "## Tryout_2, Google Word2Vec Embedding"
   ]
  },
  {
   "cell_type": "markdown",
   "metadata": {},
   "source": [
    "- Import Wiki Embedding"
   ]
  },
  {
   "cell_type": "code",
   "execution_count": 7,
   "metadata": {},
   "outputs": [],
   "source": [
    "from nltk.stem import WordNetLemmatizer\n",
    "lemmatizer = WordNetLemmatizer() "
   ]
  },
  {
   "cell_type": "code",
   "execution_count": 8,
   "metadata": {},
   "outputs": [],
   "source": [
    "train_no_punc_2 = [remove_punc(text) for text in train_texts]\n",
    "train_tokens_2 = [tokenize(text) for text in train_no_punc_2]\n",
    "train_no_stopword = [filter_stopwords(tokens) for tokens in train_tokens_2]"
   ]
  },
  {
   "cell_type": "code",
   "execution_count": 9,
   "metadata": {},
   "outputs": [],
   "source": [
    "for token in train_no_stopword:\n",
    "    for i in range(0,len(token)):\n",
    "        token[i] = lemmatizer.lemmatize(token[i])"
   ]
  },
  {
   "cell_type": "code",
   "execution_count": 10,
   "metadata": {},
   "outputs": [],
   "source": [
    "train_feats_2 = train_no_stopword"
   ]
  },
  {
   "cell_type": "code",
   "execution_count": 11,
   "metadata": {},
   "outputs": [
    {
     "name": "stdout",
     "output_type": "stream",
     "text": [
      "Size of features: 14726\n"
     ]
    }
   ],
   "source": [
    "min_freq = 3\n",
    "# build a mapping from features to indices\n",
    "feats_dict_2 = get_feats_dict(\n",
    "    chain.from_iterable(train_feats_2),\n",
    "    min_freq=min_freq)"
   ]
  },
  {
   "cell_type": "code",
   "execution_count": 12,
   "metadata": {},
   "outputs": [],
   "source": [
    "valid_no_punc_2 = [remove_punc(text) for text in valid_texts]\n",
    "valid_tokens_2 = [tokenize(text) for text in valid_no_punc_2]\n",
    "valid_no_stopword = [filter_stopwords(tokens) for tokens in valid_tokens_2]"
   ]
  },
  {
   "cell_type": "code",
   "execution_count": 13,
   "metadata": {},
   "outputs": [],
   "source": [
    "for token in valid_no_stopword:\n",
    "    for i in range(0,len(token)):\n",
    "        token[i] = lemmatizer.lemmatize(token[i])"
   ]
  },
  {
   "cell_type": "code",
   "execution_count": 14,
   "metadata": {},
   "outputs": [],
   "source": [
    "valid_feats_2 = valid_no_stopword"
   ]
  },
  {
   "cell_type": "code",
   "execution_count": 15,
   "metadata": {},
   "outputs": [],
   "source": [
    "test_no_punc_2 = [remove_punc(text) for text in test_texts]\n",
    "test_tokens_2 = [tokenize(text) for text in test_no_punc_2]\n",
    "test_no_stopword = [filter_stopwords(tokens) for tokens in test_tokens_2]"
   ]
  },
  {
   "cell_type": "code",
   "execution_count": 16,
   "metadata": {},
   "outputs": [],
   "source": [
    "for token in test_no_stopword:\n",
    "    for i in range(0,len(token)):\n",
    "        token[i] = lemmatizer.lemmatize(token[i])"
   ]
  },
  {
   "cell_type": "code",
   "execution_count": 17,
   "metadata": {},
   "outputs": [],
   "source": [
    "test_feats_2 = test_no_stopword"
   ]
  },
  {
   "cell_type": "code",
   "execution_count": 18,
   "metadata": {},
   "outputs": [],
   "source": [
    "max_len = 150\n",
    "\n",
    "# build the feats_matrix\n",
    "# convert each example to a index vector, and then stack vectors as a matrix\n",
    "train_feats_matrix = np.vstack(\n",
    "    [get_index_vector(f, feats_dict_2, max_len) for f in train_feats_2])\n",
    "valid_feats_matrix = np.vstack(\n",
    "    [get_index_vector(f, feats_dict_2, max_len) for f in valid_feats_2])\n",
    "test_feats_matrix = np.vstack(\n",
    "    [get_index_vector(f, feats_dict_2, max_len) for f in test_feats_2])\n",
    "\n",
    "# convert labels to label_matrix\n",
    "num_classes = max(train_labels)\n",
    "# convert each label to a ont-hot vector, and then stack vectors as a matrix\n",
    "train_label_matrix = keras.utils.to_categorical(train_labels-1, num_classes=num_classes)\n",
    "valid_label_matrix = keras.utils.to_categorical(valid_labels-1, num_classes=num_classes)"
   ]
  },
  {
   "cell_type": "code",
   "execution_count": 19,
   "metadata": {},
   "outputs": [
    {
     "name": "stderr",
     "output_type": "stream",
     "text": [
      "unable to import 'smart_open.gcs', disabling that module\n",
      "/Library/Frameworks/Python.framework/Versions/3.6/lib/python3.6/site-packages/smart_open/smart_open_lib.py:253: UserWarning: This function is deprecated, use smart_open.open instead. See the migration notes for details: https://github.com/RaRe-Technologies/smart_open/blob/master/README.rst#migrating-to-the-new-open-function\n",
      "  'See the migration notes for details: %s' % _MIGRATION_NOTES_URL\n"
     ]
    }
   ],
   "source": [
    "from gensim.models.keyedvectors import KeyedVectors\n",
    "gensim_model = KeyedVectors.load_word2vec_format(\n",
    "    'GoogleNews-vectors-negative300.bin', binary=True, limit=3000000)"
   ]
  },
  {
   "cell_type": "code",
   "execution_count": 20,
   "metadata": {},
   "outputs": [],
   "source": [
    "embedding_matrix_2 = np.zeros((len(feats_dict_2), 300), dtype=np.float32)\n",
    "for word in feats_dict_2:\n",
    "    word_idx = feats_dict_2.get(word, -1)\n",
    "    if word in gensim_model:\n",
    "        embedding_matrix_2[word_idx] = np.array(gensim_model[word], dtype=np.float32)\n",
    "    else:\n",
    "        embedding_matrix_2[word_idx] = np.array(np.zeros(300), dtype=np.float32)"
   ]
  },
  {
   "cell_type": "code",
   "execution_count": 21,
   "metadata": {
    "scrolled": false
   },
   "outputs": [
    {
     "data": {
      "text/plain": [
       "array([[ 0.        ,  0.        ,  0.        , ...,  0.        ,\n",
       "         0.        ,  0.        ],\n",
       "       [ 0.        ,  0.        ,  0.        , ...,  0.        ,\n",
       "         0.        ,  0.        ],\n",
       "       [-0.20703125,  0.203125  ,  0.04199219, ...,  0.13867188,\n",
       "         0.03686523, -0.02868652],\n",
       "       ...,\n",
       "       [-0.31835938,  0.12597656, -0.17382812, ...,  0.00891113,\n",
       "        -0.14648438,  0.55078125],\n",
       "       [ 0.        ,  0.        ,  0.        , ...,  0.        ,\n",
       "         0.        ,  0.        ],\n",
       "       [ 0.11572266,  0.26367188, -0.19628906, ..., -0.09033203,\n",
       "        -0.09619141,  0.15429688]], dtype=float32)"
      ]
     },
     "execution_count": 21,
     "metadata": {},
     "output_type": "execute_result"
    }
   ],
   "source": [
    "embedding_matrix_2"
   ]
  },
  {
   "cell_type": "code",
   "execution_count": null,
   "metadata": {},
   "outputs": [],
   "source": [
    "os.makedirs(\"models\", exist_ok=True)\n",
    "model = build_RNN(input_length=max_len, vocab_size=len(feats_dict_2),\n",
    "                  embedding_size=300, hidden_size=256, output_size=num_classes,\n",
    "                  rnn_type=\"lstm\", num_rnn_layers=1, bidirectional= True, num_mlp_layers=2,\n",
    "                  embedding_matrix=embedding_matrix_2,\n",
    "                  activation=\"relu\",\n",
    "                  batch_norm=True,\n",
    "                  l2_reg=0.001, dropout_rate=0.5)\n",
    "checkpointer = keras.callbacks.ModelCheckpoint(\n",
    "    filepath=os.path.join(\"models\", \"weights.hdf5\"),\n",
    "    monitor=\"val_accuracy\",\n",
    "    verbose=0,\n",
    "    save_best_only=True)\n",
    "earlystopping = keras.callbacks.callbacks.EarlyStopping(\n",
    "    monitor='val_loss',\n",
    "    patience=5,\n",
    "    verbose=1)\n",
    "\n",
    "np.random.seed(0)\n",
    "tf.random.set_seed(0)\n",
    "word2vec_bilstm_history = model.fit(train_feats_matrix, train_label_matrix,\n",
    "                                    validation_split=0.1,\n",
    "                                    epochs=100, batch_size=100, verbose=0,\n",
    "                                    callbacks=[checkpointer, earlystopping])\n",
    "model = keras.models.load_model(os.path.join(\"models\", \"weights.hdf5\"))\n",
    "\n",
    "train_score = model.evaluate(train_feats_matrix, train_label_matrix,\n",
    "                             batch_size=100)\n",
    "valid_score = model.evaluate(valid_feats_matrix, valid_label_matrix,\n",
    "                            batch_size=100)\n",
    "print(\"training loss:\", train_score[0], \"training accuracy\", train_score[1])\n",
    "print(\"valid loss:\", valid_score[0], \"valid accuracy\", valid_score[1])"
   ]
  },
  {
   "cell_type": "code",
   "execution_count": 116,
   "metadata": {},
   "outputs": [
    {
     "data": {
      "image/png": "[encoded data removed]",
      "text/plain": [
       "<Figure size 720x288 with 2 Axes>"
      ]
     },
     "metadata": {
      "needs_background": "light"
     },
     "output_type": "display_data"
    }
   ],
   "source": [
    "plt.figure(figsize=(10,4))\n",
    "plt.subplot(1,2,1)\n",
    "plt.plot(word2vec_bilstm_history.history[\"loss\"], label=\"Word2Vec+BiLSTM-training\", color=\"orange\", linestyle=\"dashed\")\n",
    "plt.plot(word2vec_bilstm_history.history[\"val_loss\"], label=\"Word2Vec+BiLSTM-validation\", color=\"orange\")\n",
    "plt.xlabel(\"Iteration\")\n",
    "plt.ylabel(\"Loss\")\n",
    "plt.legend()\n",
    "plt.subplot(1,2,2)\n",
    "plt.plot(word2vec_bilstm_history.history[\"accuracy\"], label=\"Word2Vec+BiLSTM-training\", color=\"orange\", linestyle=\"dashed\")\n",
    "plt.plot(word2vec_bilstm_history.history[\"val_accuracy\"], label=\"Word2Vec+BiLSTM-validation\", color=\"orange\")\n",
    "plt.xlabel(\"Iteration\")\n",
    "plt.ylabel(\"Accuracy\")\n",
    "plt.legend()\n",
    "plt.show()"
   ]
  },
  {
   "cell_type": "markdown",
   "metadata": {},
   "source": [
    "# Final Prediction on Test Data"
   ]
  },
  {
   "cell_type": "markdown",
   "metadata": {},
   "source": [
    "- Google News 300-d is a better one"
   ]
  },
  {
   "cell_type": "code",
   "execution_count": 117,
   "metadata": {},
   "outputs": [],
   "source": [
    "# save predictions (Valid and Test Dataset)\n",
    "valid_pred = model.predict(valid_feats_matrix) \n",
    "valid_pred=np.argmax(valid_pred,axis=1)\n",
    "test_pred = model.predict(test_feats_matrix) \n",
    "test_pred=np.argmax(test_pred,axis=1)\n",
    "\n",
    "for i in range(0,len(valid_pred)):\n",
    "    valid_pred[i] = valid_pred[i]+1\n",
    "for i in range(0,len(test_pred)):\n",
    "    test_pred[i] = test_pred[i]+1"
   ]
  },
  {
   "cell_type": "code",
   "execution_count": 118,
   "metadata": {},
   "outputs": [],
   "source": [
    "write_predictions('valid_pred.csv', valid_pred, valid_ids)\n",
    "write_predictions('test_pred.csv', test_pred, test_ids)"
   ]
  },
  {
   "cell_type": "code",
   "execution_count": 100,
   "metadata": {},
   "outputs": [],
   "source": [
    "import pandas as pd\n",
    "from sklearn.metrics import precision_recall_fscore_support, accuracy_score"
   ]
  },
  {
   "cell_type": "code",
   "execution_count": 119,
   "metadata": {},
   "outputs": [
    {
     "name": "stdout",
     "output_type": "stream",
     "text": [
      "accuracy: 0.6475 \tprecision: 0.5452207599623294 \trecall: 0.5311110738929457 \tf1: 0.5226389273140538\n"
     ]
    }
   ],
   "source": [
    "ans = pd.read_csv(\"data/valid.csv\", usecols=[\"review_id\", \"stars\"])\n",
    "pred = pd.read_csv(\"data/valid_pred.csv\", usecols=[\"review_id\", \"stars\"])\n",
    "df = pd.merge(ans, pred, how=\"left\", on=[\"review_id\"])\n",
    "df.fillna(0, inplace=True)\n",
    "acc = accuracy_score(df[\"stars_x\"], df[\"stars_y\"])\n",
    "p, r, f1, _ = precision_recall_fscore_support(df[\"stars_x\"], df[\"stars_y\"], average=\"macro\")\n",
    "print(\"accuracy:\", acc, \"\\tprecision:\", p, \"\\trecall:\", r, \"\\tf1:\", f1)"
   ]
  }
 ],
 "metadata": {
  "kernelspec": {
   "display_name": "Python 3",
   "language": "python",
   "name": "python3"
  },
  "language_info": {
   "codemirror_mode": {
    "name": "ipython",
    "version": 3
   },
   "file_extension": ".py",
   "mimetype": "text/x-python",
   "name": "python",
   "nbconvert_exporter": "python",
   "pygments_lexer": "ipython3",
   "version": "3.6.8"
  }
 },
 "nbformat": 4,
 "nbformat_minor": 2
}
