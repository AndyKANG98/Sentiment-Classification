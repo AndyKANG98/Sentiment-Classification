{
 "cells": [
  {
   "cell_type": "code",
   "execution_count": 1,
   "metadata": {},
   "outputs": [
    {
     "data": {
      "text/html": [
       "<style>.container { width:100% !important; }</style>"
      ],
      "text/plain": [
       "<IPython.core.display.HTML object>"
      ]
     },
     "metadata": {},
     "output_type": "display_data"
    }
   ],
   "source": [
    "from IPython.core.display import display, HTML\n",
    "display(HTML(\"<style>.container { width:100% !important; }</style>\"))\n",
    "\n",
    "import warnings\n",
    "warnings.filterwarnings('ignore')"
   ]
  },
  {
   "cell_type": "code",
   "execution_count": 83,
   "metadata": {},
   "outputs": [
    {
     "data": {
      "text/html": [
       "<div>\n",
       "<style scoped>\n",
       "    .dataframe tbody tr th:only-of-type {\n",
       "        vertical-align: middle;\n",
       "    }\n",
       "\n",
       "    .dataframe tbody tr th {\n",
       "        vertical-align: top;\n",
       "    }\n",
       "\n",
       "    .dataframe thead th {\n",
       "        text-align: right;\n",
       "    }\n",
       "</style>\n",
       "<table border=\"1\" class=\"dataframe\">\n",
       "  <thead>\n",
       "    <tr style=\"text-align: right;\">\n",
       "      <th></th>\n",
       "      <th>review_id</th>\n",
       "      <th>bert1</th>\n",
       "      <th>bert2</th>\n",
       "      <th>bert3</th>\n",
       "      <th>rnn</th>\n",
       "      <th>lgb</th>\n",
       "    </tr>\n",
       "  </thead>\n",
       "  <tbody>\n",
       "    <tr>\n",
       "      <th>0</th>\n",
       "      <td>ewaMkuxfjfCX3ndtk0oRTw</td>\n",
       "      <td>3</td>\n",
       "      <td>3</td>\n",
       "      <td>3</td>\n",
       "      <td>5</td>\n",
       "      <td>4.0</td>\n",
       "    </tr>\n",
       "    <tr>\n",
       "      <th>1</th>\n",
       "      <td>SzkuvIpf0lcVaDgk5x2ipg</td>\n",
       "      <td>5</td>\n",
       "      <td>5</td>\n",
       "      <td>5</td>\n",
       "      <td>5</td>\n",
       "      <td>4.0</td>\n",
       "    </tr>\n",
       "    <tr>\n",
       "      <th>2</th>\n",
       "      <td>ZGg6emL3sqhyyqHD_DJEag</td>\n",
       "      <td>5</td>\n",
       "      <td>5</td>\n",
       "      <td>4</td>\n",
       "      <td>3</td>\n",
       "      <td>3.0</td>\n",
       "    </tr>\n",
       "    <tr>\n",
       "      <th>3</th>\n",
       "      <td>IXYLmBVvRVFJZEhnhE_YsQ</td>\n",
       "      <td>5</td>\n",
       "      <td>5</td>\n",
       "      <td>5</td>\n",
       "      <td>5</td>\n",
       "      <td>3.0</td>\n",
       "    </tr>\n",
       "    <tr>\n",
       "      <th>4</th>\n",
       "      <td>dao7SEXhBuMk7TieM4gEZA</td>\n",
       "      <td>3</td>\n",
       "      <td>3</td>\n",
       "      <td>2</td>\n",
       "      <td>3</td>\n",
       "      <td>3.0</td>\n",
       "    </tr>\n",
       "  </tbody>\n",
       "</table>\n",
       "</div>"
      ],
      "text/plain": [
       "                review_id  bert1  bert2  bert3  rnn  lgb\n",
       "0  ewaMkuxfjfCX3ndtk0oRTw      3      3      3    5  4.0\n",
       "1  SzkuvIpf0lcVaDgk5x2ipg      5      5      5    5  4.0\n",
       "2  ZGg6emL3sqhyyqHD_DJEag      5      5      4    3  3.0\n",
       "3  IXYLmBVvRVFJZEhnhE_YsQ      5      5      5    5  3.0\n",
       "4  dao7SEXhBuMk7TieM4gEZA      3      3      2    3  3.0"
      ]
     },
     "execution_count": 83,
     "metadata": {},
     "output_type": "execute_result"
    }
   ],
   "source": [
    "import pandas as pd\n",
    "df1 = pd.read_csv('./data/pred_val_bert.csv')\n",
    "df1.columns = ['review_id', 'bert1']\n",
    "df1['bert2'] = pd.read_csv('./data/pred_val_bert_2.csv')['stars']\n",
    "df1['bert3'] = pd.read_csv('./data/pred_val_bert_3.csv')['stars']\n",
    "df1['rnn'] = pd.read_csv('./data/valid_pred.csv')['stars']\n",
    "df1['lgb'] = pd.read_csv('./data/lgb_val.csv')['predicted_star'].round()\n",
    "df1.head()"
   ]
  },
  {
   "cell_type": "code",
   "execution_count": 3,
   "metadata": {},
   "outputs": [],
   "source": [
    "df1['cat'] = 'valid'"
   ]
  },
  {
   "cell_type": "code",
   "execution_count": 4,
   "metadata": {
    "scrolled": true
   },
   "outputs": [
    {
     "data": {
      "text/html": [
       "<div>\n",
       "<style scoped>\n",
       "    .dataframe tbody tr th:only-of-type {\n",
       "        vertical-align: middle;\n",
       "    }\n",
       "\n",
       "    .dataframe tbody tr th {\n",
       "        vertical-align: top;\n",
       "    }\n",
       "\n",
       "    .dataframe thead th {\n",
       "        text-align: right;\n",
       "    }\n",
       "</style>\n",
       "<table border=\"1\" class=\"dataframe\">\n",
       "  <thead>\n",
       "    <tr style=\"text-align: right;\">\n",
       "      <th></th>\n",
       "      <th>review_id</th>\n",
       "      <th>lgb</th>\n",
       "      <th>bert1</th>\n",
       "      <th>bert2</th>\n",
       "      <th>bert3</th>\n",
       "      <th>rnn</th>\n",
       "    </tr>\n",
       "  </thead>\n",
       "  <tbody>\n",
       "    <tr>\n",
       "      <th>0</th>\n",
       "      <td>SE3NWk7exO4LhLrG-4fq8A</td>\n",
       "      <td>3.743851</td>\n",
       "      <td>3</td>\n",
       "      <td>4</td>\n",
       "      <td>4</td>\n",
       "      <td>3</td>\n",
       "    </tr>\n",
       "    <tr>\n",
       "      <th>1</th>\n",
       "      <td>HDjbIqJJNqgOLezeikEA_w</td>\n",
       "      <td>4.721213</td>\n",
       "      <td>4</td>\n",
       "      <td>5</td>\n",
       "      <td>4</td>\n",
       "      <td>2</td>\n",
       "    </tr>\n",
       "    <tr>\n",
       "      <th>2</th>\n",
       "      <td>_TrAAObnxO9ZHfY6twWB1w</td>\n",
       "      <td>4.268382</td>\n",
       "      <td>5</td>\n",
       "      <td>5</td>\n",
       "      <td>5</td>\n",
       "      <td>5</td>\n",
       "    </tr>\n",
       "    <tr>\n",
       "      <th>3</th>\n",
       "      <td>jqjtghMH3Uy6mGYk7k9Heg</td>\n",
       "      <td>3.259250</td>\n",
       "      <td>5</td>\n",
       "      <td>5</td>\n",
       "      <td>5</td>\n",
       "      <td>1</td>\n",
       "    </tr>\n",
       "    <tr>\n",
       "      <th>4</th>\n",
       "      <td>0c4Tn5kRB09dByvmcEWxbw</td>\n",
       "      <td>4.147467</td>\n",
       "      <td>5</td>\n",
       "      <td>5</td>\n",
       "      <td>5</td>\n",
       "      <td>5</td>\n",
       "    </tr>\n",
       "  </tbody>\n",
       "</table>\n",
       "</div>"
      ],
      "text/plain": [
       "                review_id       lgb  bert1  bert2  bert3  rnn\n",
       "0  SE3NWk7exO4LhLrG-4fq8A  3.743851      3      4      4    3\n",
       "1  HDjbIqJJNqgOLezeikEA_w  4.721213      4      5      4    2\n",
       "2  _TrAAObnxO9ZHfY6twWB1w  4.268382      5      5      5    5\n",
       "3  jqjtghMH3Uy6mGYk7k9Heg  3.259250      5      5      5    1\n",
       "4  0c4Tn5kRB09dByvmcEWxbw  4.147467      5      5      5    5"
      ]
     },
     "execution_count": 4,
     "metadata": {},
     "output_type": "execute_result"
    }
   ],
   "source": [
    "df2 = pd.read_csv('./data/lgb_pred.csv')\n",
    "df2.columns = ['review_id', 'lgb']\n",
    "df2['bert1'] = pd.read_csv('./data/pred_bert.csv')['stars']\n",
    "df2['bert2'] = pd.read_csv('./data/pred_bert_2.csv')['stars']\n",
    "df2['bert3'] = pd.read_csv('./data/pred_bert_3.csv')['stars']\n",
    "df2['rnn'] = pd.read_csv('./data/test_pred.csv')['stars']\n",
    "\n",
    "df2.head()"
   ]
  },
  {
   "cell_type": "code",
   "execution_count": 104,
   "metadata": {},
   "outputs": [
    {
     "data": {
      "text/plain": [
       "True     1436\n",
       "False     564\n",
       "dtype: int64"
      ]
     },
     "execution_count": 104,
     "metadata": {},
     "output_type": "execute_result"
    }
   ],
   "source": [
    "(df1.bert3 == df1.rnn).value_counts()"
   ]
  },
  {
   "cell_type": "code",
   "execution_count": 105,
   "metadata": {},
   "outputs": [
    {
     "data": {
      "text/plain": [
       "False    1311\n",
       "True      689\n",
       "dtype: int64"
      ]
     },
     "execution_count": 105,
     "metadata": {},
     "output_type": "execute_result"
    }
   ],
   "source": [
    "(df2.bert3 == df2.rnn).value_counts()"
   ]
  },
  {
   "cell_type": "code",
   "execution_count": 106,
   "metadata": {},
   "outputs": [
    {
     "data": {
      "text/plain": [
       "False    1040\n",
       "True      960\n",
       "dtype: int64"
      ]
     },
     "execution_count": 106,
     "metadata": {},
     "output_type": "execute_result"
    }
   ],
   "source": [
    "(df1.bert3 == df1.lgb.round()).value_counts()"
   ]
  },
  {
   "cell_type": "code",
   "execution_count": 107,
   "metadata": {},
   "outputs": [
    {
     "data": {
      "text/plain": [
       "False    1055\n",
       "True      945\n",
       "dtype: int64"
      ]
     },
     "execution_count": 107,
     "metadata": {},
     "output_type": "execute_result"
    }
   ],
   "source": [
    "(df2.bert3 == df2.lgb.round()).value_counts()"
   ]
  },
  {
   "cell_type": "code",
   "execution_count": 5,
   "metadata": {},
   "outputs": [
    {
     "data": {
      "text/html": [
       "<div>\n",
       "<style scoped>\n",
       "    .dataframe tbody tr th:only-of-type {\n",
       "        vertical-align: middle;\n",
       "    }\n",
       "\n",
       "    .dataframe tbody tr th {\n",
       "        vertical-align: top;\n",
       "    }\n",
       "\n",
       "    .dataframe thead th {\n",
       "        text-align: right;\n",
       "    }\n",
       "</style>\n",
       "<table border=\"1\" class=\"dataframe\">\n",
       "  <thead>\n",
       "    <tr style=\"text-align: right;\">\n",
       "      <th></th>\n",
       "      <th>business_id</th>\n",
       "      <th>cool</th>\n",
       "      <th>date</th>\n",
       "      <th>funny</th>\n",
       "      <th>review_id</th>\n",
       "      <th>stars</th>\n",
       "      <th>text</th>\n",
       "      <th>useful</th>\n",
       "      <th>user_id</th>\n",
       "    </tr>\n",
       "  </thead>\n",
       "  <tbody>\n",
       "    <tr>\n",
       "      <th>0</th>\n",
       "      <td>3D-FJxp8bsBzm3zJVqs92g</td>\n",
       "      <td>0</td>\n",
       "      <td>2016-07-26</td>\n",
       "      <td>0</td>\n",
       "      <td>SE3NWk7exO4LhLrG-4fq8A</td>\n",
       "      <td>0.0</td>\n",
       "      <td>Got the breakfast sandwich with home fries bot...</td>\n",
       "      <td>0</td>\n",
       "      <td>4wf350SdjZs3PQeYTjoilA</td>\n",
       "    </tr>\n",
       "    <tr>\n",
       "      <th>1</th>\n",
       "      <td>OIdOJaNS8M624F58XGV3PQ</td>\n",
       "      <td>1</td>\n",
       "      <td>2012-10-15</td>\n",
       "      <td>0</td>\n",
       "      <td>HDjbIqJJNqgOLezeikEA_w</td>\n",
       "      <td>0.0</td>\n",
       "      <td>@pizzalibretto\\nI booked a large group here fo...</td>\n",
       "      <td>3</td>\n",
       "      <td>0BBUmH7Krcax1RZgbH4fSA</td>\n",
       "    </tr>\n",
       "    <tr>\n",
       "      <th>2</th>\n",
       "      <td>Cq-quzfGpVgcBPpZ6WzCKw</td>\n",
       "      <td>0</td>\n",
       "      <td>2017-01-07</td>\n",
       "      <td>0</td>\n",
       "      <td>_TrAAObnxO9ZHfY6twWB1w</td>\n",
       "      <td>0.0</td>\n",
       "      <td>AMAZING!! I got a reasonable quote and they ca...</td>\n",
       "      <td>0</td>\n",
       "      <td>wHw29VJKpu1IXJ0tXznaXQ</td>\n",
       "    </tr>\n",
       "    <tr>\n",
       "      <th>3</th>\n",
       "      <td>BDV4499NWVKQgQQ5FjPd8w</td>\n",
       "      <td>6</td>\n",
       "      <td>2011-01-05</td>\n",
       "      <td>9</td>\n",
       "      <td>jqjtghMH3Uy6mGYk7k9Heg</td>\n",
       "      <td>0.0</td>\n",
       "      <td>Disclaimer: \\nI'm not a tea expert. I don't ow...</td>\n",
       "      <td>8</td>\n",
       "      <td>OgSkk8AjZpDfxJQxOZlT-w</td>\n",
       "    </tr>\n",
       "    <tr>\n",
       "      <th>4</th>\n",
       "      <td>z1F2e1xHWMe6FxYvTReWcw</td>\n",
       "      <td>0</td>\n",
       "      <td>2017-06-26</td>\n",
       "      <td>0</td>\n",
       "      <td>0c4Tn5kRB09dByvmcEWxbw</td>\n",
       "      <td>0.0</td>\n",
       "      <td>I have been going here for years and expect a ...</td>\n",
       "      <td>0</td>\n",
       "      <td>nZihvJzDqLSTd0E0Q_VFvg</td>\n",
       "    </tr>\n",
       "    <tr>\n",
       "      <th>...</th>\n",
       "      <td>...</td>\n",
       "      <td>...</td>\n",
       "      <td>...</td>\n",
       "      <td>...</td>\n",
       "      <td>...</td>\n",
       "      <td>...</td>\n",
       "      <td>...</td>\n",
       "      <td>...</td>\n",
       "      <td>...</td>\n",
       "    </tr>\n",
       "    <tr>\n",
       "      <th>1995</th>\n",
       "      <td>wPiRP76arN0NB3M1ZXXp7g</td>\n",
       "      <td>0</td>\n",
       "      <td>2009-08-25</td>\n",
       "      <td>0</td>\n",
       "      <td>b7nE8KfrTQOU8QiZiLvlDA</td>\n",
       "      <td>0.0</td>\n",
       "      <td>Great for large groups! I was looking for a re...</td>\n",
       "      <td>0</td>\n",
       "      <td>8ebQm-Py_UxW73Sc0SlPLg</td>\n",
       "    </tr>\n",
       "    <tr>\n",
       "      <th>1996</th>\n",
       "      <td>1NmGVWYlF4iMngM6arKJTQ</td>\n",
       "      <td>1</td>\n",
       "      <td>2013-12-30</td>\n",
       "      <td>0</td>\n",
       "      <td>TsEzGvNX8Q0aJXGZBfYQ2w</td>\n",
       "      <td>0.0</td>\n",
       "      <td>3.5 stars\\nThis place has become our neighborh...</td>\n",
       "      <td>2</td>\n",
       "      <td>ZvmC522FAwxt8qT1jxqliw</td>\n",
       "    </tr>\n",
       "    <tr>\n",
       "      <th>1997</th>\n",
       "      <td>gEeEpUAXI36N57nvCYJMxg</td>\n",
       "      <td>0</td>\n",
       "      <td>2014-07-28</td>\n",
       "      <td>3</td>\n",
       "      <td>yuwbV4vtYheZBW4gMDLxgQ</td>\n",
       "      <td>0.0</td>\n",
       "      <td>So just had my first experience here and I was...</td>\n",
       "      <td>2</td>\n",
       "      <td>EzjLARgz3Jmb4L1t3lBy1A</td>\n",
       "    </tr>\n",
       "    <tr>\n",
       "      <th>1998</th>\n",
       "      <td>Q2Gd5Dmqtii59EheSjsA-Q</td>\n",
       "      <td>0</td>\n",
       "      <td>2018-06-28</td>\n",
       "      <td>0</td>\n",
       "      <td>uJSHhBzlC8GzZgAm_YN6TQ</td>\n",
       "      <td>0.0</td>\n",
       "      <td>Ok, this place HAS to be officially closed. It...</td>\n",
       "      <td>0</td>\n",
       "      <td>31LqBA0cb06FodcApSyNeQ</td>\n",
       "    </tr>\n",
       "    <tr>\n",
       "      <th>1999</th>\n",
       "      <td>IsyO4wTJWY9dy-Iq0l1EiA</td>\n",
       "      <td>0</td>\n",
       "      <td>2018-01-07</td>\n",
       "      <td>0</td>\n",
       "      <td>VA5kAL4h3s3a4XnX_dQwuA</td>\n",
       "      <td>0.0</td>\n",
       "      <td>I went there last night for the first time and...</td>\n",
       "      <td>0</td>\n",
       "      <td>bR4CbA6qBy6kEqazMWALBw</td>\n",
       "    </tr>\n",
       "  </tbody>\n",
       "</table>\n",
       "<p>2000 rows × 9 columns</p>\n",
       "</div>"
      ],
      "text/plain": [
       "                 business_id  cool        date  funny               review_id  \\\n",
       "0     3D-FJxp8bsBzm3zJVqs92g     0  2016-07-26      0  SE3NWk7exO4LhLrG-4fq8A   \n",
       "1     OIdOJaNS8M624F58XGV3PQ     1  2012-10-15      0  HDjbIqJJNqgOLezeikEA_w   \n",
       "2     Cq-quzfGpVgcBPpZ6WzCKw     0  2017-01-07      0  _TrAAObnxO9ZHfY6twWB1w   \n",
       "3     BDV4499NWVKQgQQ5FjPd8w     6  2011-01-05      9  jqjtghMH3Uy6mGYk7k9Heg   \n",
       "4     z1F2e1xHWMe6FxYvTReWcw     0  2017-06-26      0  0c4Tn5kRB09dByvmcEWxbw   \n",
       "...                      ...   ...         ...    ...                     ...   \n",
       "1995  wPiRP76arN0NB3M1ZXXp7g     0  2009-08-25      0  b7nE8KfrTQOU8QiZiLvlDA   \n",
       "1996  1NmGVWYlF4iMngM6arKJTQ     1  2013-12-30      0  TsEzGvNX8Q0aJXGZBfYQ2w   \n",
       "1997  gEeEpUAXI36N57nvCYJMxg     0  2014-07-28      3  yuwbV4vtYheZBW4gMDLxgQ   \n",
       "1998  Q2Gd5Dmqtii59EheSjsA-Q     0  2018-06-28      0  uJSHhBzlC8GzZgAm_YN6TQ   \n",
       "1999  IsyO4wTJWY9dy-Iq0l1EiA     0  2018-01-07      0  VA5kAL4h3s3a4XnX_dQwuA   \n",
       "\n",
       "      stars                                               text  useful  \\\n",
       "0       0.0  Got the breakfast sandwich with home fries bot...       0   \n",
       "1       0.0  @pizzalibretto\\nI booked a large group here fo...       3   \n",
       "2       0.0  AMAZING!! I got a reasonable quote and they ca...       0   \n",
       "3       0.0  Disclaimer: \\nI'm not a tea expert. I don't ow...       8   \n",
       "4       0.0  I have been going here for years and expect a ...       0   \n",
       "...     ...                                                ...     ...   \n",
       "1995    0.0  Great for large groups! I was looking for a re...       0   \n",
       "1996    0.0  3.5 stars\\nThis place has become our neighborh...       2   \n",
       "1997    0.0  So just had my first experience here and I was...       2   \n",
       "1998    0.0  Ok, this place HAS to be officially closed. It...       0   \n",
       "1999    0.0  I went there last night for the first time and...       0   \n",
       "\n",
       "                     user_id  \n",
       "0     4wf350SdjZs3PQeYTjoilA  \n",
       "1     0BBUmH7Krcax1RZgbH4fSA  \n",
       "2     wHw29VJKpu1IXJ0tXznaXQ  \n",
       "3     OgSkk8AjZpDfxJQxOZlT-w  \n",
       "4     nZihvJzDqLSTd0E0Q_VFvg  \n",
       "...                      ...  \n",
       "1995  8ebQm-Py_UxW73Sc0SlPLg  \n",
       "1996  ZvmC522FAwxt8qT1jxqliw  \n",
       "1997  EzjLARgz3Jmb4L1t3lBy1A  \n",
       "1998  31LqBA0cb06FodcApSyNeQ  \n",
       "1999  bR4CbA6qBy6kEqazMWALBw  \n",
       "\n",
       "[2000 rows x 9 columns]"
      ]
     },
     "execution_count": 5,
     "metadata": {},
     "output_type": "execute_result"
    }
   ],
   "source": [
    "pd.read_csv('./data/test.csv')"
   ]
  },
  {
   "cell_type": "code",
   "execution_count": 6,
   "metadata": {},
   "outputs": [],
   "source": [
    "df2['cat'] = 'test'"
   ]
  },
  {
   "cell_type": "code",
   "execution_count": 7,
   "metadata": {},
   "outputs": [
    {
     "data": {
      "text/plain": [
       "test     2000\n",
       "valid    2000\n",
       "Name: cat, dtype: int64"
      ]
     },
     "execution_count": 7,
     "metadata": {},
     "output_type": "execute_result"
    }
   ],
   "source": [
    "df = pd.concat([df1, df2])\n",
    "df['cat'].value_counts()"
   ]
  },
  {
   "cell_type": "code",
   "execution_count": 8,
   "metadata": {},
   "outputs": [],
   "source": [
    "def round_star(star):\n",
    "    if star < 1:\n",
    "        return 1\n",
    "    elif star > 5:\n",
    "        return 5\n",
    "    else:\n",
    "        return round(star)"
   ]
  },
  {
   "cell_type": "code",
   "execution_count": 9,
   "metadata": {},
   "outputs": [
    {
     "data": {
      "text/plain": [
       "Index(['bert1', 'bert2', 'bert3', 'cat', 'lgb', 'review_id', 'rnn'], dtype='object')"
      ]
     },
     "execution_count": 9,
     "metadata": {},
     "output_type": "execute_result"
    }
   ],
   "source": [
    "df.columns"
   ]
  },
  {
   "cell_type": "code",
   "execution_count": 10,
   "metadata": {},
   "outputs": [
    {
     "data": {
      "text/html": [
       "<div>\n",
       "<style scoped>\n",
       "    .dataframe tbody tr th:only-of-type {\n",
       "        vertical-align: middle;\n",
       "    }\n",
       "\n",
       "    .dataframe tbody tr th {\n",
       "        vertical-align: top;\n",
       "    }\n",
       "\n",
       "    .dataframe thead th {\n",
       "        text-align: right;\n",
       "    }\n",
       "</style>\n",
       "<table border=\"1\" class=\"dataframe\">\n",
       "  <thead>\n",
       "    <tr style=\"text-align: right;\">\n",
       "      <th></th>\n",
       "      <th>bert1</th>\n",
       "      <th>bert2</th>\n",
       "      <th>bert3</th>\n",
       "      <th>cat</th>\n",
       "      <th>lgb</th>\n",
       "      <th>review_id</th>\n",
       "      <th>rnn</th>\n",
       "      <th>all_mean</th>\n",
       "    </tr>\n",
       "  </thead>\n",
       "  <tbody>\n",
       "    <tr>\n",
       "      <th>0</th>\n",
       "      <td>3</td>\n",
       "      <td>3</td>\n",
       "      <td>3</td>\n",
       "      <td>valid</td>\n",
       "      <td>4.360081</td>\n",
       "      <td>ewaMkuxfjfCX3ndtk0oRTw</td>\n",
       "      <td>5</td>\n",
       "      <td>4</td>\n",
       "    </tr>\n",
       "    <tr>\n",
       "      <th>1</th>\n",
       "      <td>5</td>\n",
       "      <td>5</td>\n",
       "      <td>5</td>\n",
       "      <td>valid</td>\n",
       "      <td>3.824301</td>\n",
       "      <td>SzkuvIpf0lcVaDgk5x2ipg</td>\n",
       "      <td>5</td>\n",
       "      <td>5</td>\n",
       "    </tr>\n",
       "    <tr>\n",
       "      <th>2</th>\n",
       "      <td>5</td>\n",
       "      <td>5</td>\n",
       "      <td>4</td>\n",
       "      <td>valid</td>\n",
       "      <td>2.929254</td>\n",
       "      <td>ZGg6emL3sqhyyqHD_DJEag</td>\n",
       "      <td>3</td>\n",
       "      <td>4</td>\n",
       "    </tr>\n",
       "    <tr>\n",
       "      <th>3</th>\n",
       "      <td>5</td>\n",
       "      <td>5</td>\n",
       "      <td>5</td>\n",
       "      <td>valid</td>\n",
       "      <td>3.088829</td>\n",
       "      <td>IXYLmBVvRVFJZEhnhE_YsQ</td>\n",
       "      <td>5</td>\n",
       "      <td>5</td>\n",
       "    </tr>\n",
       "    <tr>\n",
       "      <th>4</th>\n",
       "      <td>3</td>\n",
       "      <td>3</td>\n",
       "      <td>2</td>\n",
       "      <td>valid</td>\n",
       "      <td>2.831013</td>\n",
       "      <td>dao7SEXhBuMk7TieM4gEZA</td>\n",
       "      <td>3</td>\n",
       "      <td>3</td>\n",
       "    </tr>\n",
       "  </tbody>\n",
       "</table>\n",
       "</div>"
      ],
      "text/plain": [
       "   bert1  bert2  bert3    cat       lgb               review_id  rnn  all_mean\n",
       "0      3      3      3  valid  4.360081  ewaMkuxfjfCX3ndtk0oRTw    5         4\n",
       "1      5      5      5  valid  3.824301  SzkuvIpf0lcVaDgk5x2ipg    5         5\n",
       "2      5      5      4  valid  2.929254  ZGg6emL3sqhyyqHD_DJEag    3         4\n",
       "3      5      5      5  valid  3.088829  IXYLmBVvRVFJZEhnhE_YsQ    5         5\n",
       "4      3      3      2  valid  2.831013  dao7SEXhBuMk7TieM4gEZA    3         3"
      ]
     },
     "execution_count": 10,
     "metadata": {},
     "output_type": "execute_result"
    }
   ],
   "source": [
    "import numpy as np\n",
    "df['all_mean'] = df.apply(\n",
    "    lambda x: np.array([x['bert1'], x['bert2'], x['bert3'], x['rnn'], x['lgb']]).mean(), axis=1)\n",
    "df['all_mean'] = df['all_mean'].apply(lambda x: round_star(x))\n",
    "df.head()"
   ]
  },
  {
   "cell_type": "code",
   "execution_count": 11,
   "metadata": {},
   "outputs": [],
   "source": [
    "va = pd.read_csv('./data/valid.csv')\n",
    "y_val = va['stars']"
   ]
  },
  {
   "cell_type": "code",
   "execution_count": 12,
   "metadata": {},
   "outputs": [],
   "source": [
    "from sklearn.metrics import precision_recall_fscore_support, accuracy_score\n",
    "\n",
    "def eva(method):\n",
    "    y_val_pre = df[df.cat == 'valid'][method]\n",
    "    acc = accuracy_score(y_val, y_val_pre)\n",
    "    p, r, f1, _ = precision_recall_fscore_support(y_val, y_val_pre, average=\"macro\")\n",
    "    print(\"accuracy:\", acc, \"\\tprecision:\", p, \"\\trecall:\", r, \"\\tf1:\", f1)"
   ]
  },
  {
   "cell_type": "code",
   "execution_count": 13,
   "metadata": {},
   "outputs": [
    {
     "name": "stdout",
     "output_type": "stream",
     "text": [
      "accuracy: 0.685 \tprecision: 0.6247420830079342 \trecall: 0.6122394922290675 \tf1: 0.6171661965616136\n"
     ]
    }
   ],
   "source": [
    "eva('all_mean')"
   ]
  },
  {
   "cell_type": "code",
   "execution_count": 14,
   "metadata": {},
   "outputs": [
    {
     "data": {
      "text/html": [
       "<div>\n",
       "<style scoped>\n",
       "    .dataframe tbody tr th:only-of-type {\n",
       "        vertical-align: middle;\n",
       "    }\n",
       "\n",
       "    .dataframe tbody tr th {\n",
       "        vertical-align: top;\n",
       "    }\n",
       "\n",
       "    .dataframe thead th {\n",
       "        text-align: right;\n",
       "    }\n",
       "</style>\n",
       "<table border=\"1\" class=\"dataframe\">\n",
       "  <thead>\n",
       "    <tr style=\"text-align: right;\">\n",
       "      <th></th>\n",
       "      <th>bert1</th>\n",
       "      <th>bert2</th>\n",
       "      <th>bert3</th>\n",
       "      <th>cat</th>\n",
       "      <th>lgb</th>\n",
       "      <th>review_id</th>\n",
       "      <th>rnn</th>\n",
       "      <th>all_mean</th>\n",
       "      <th>norm_mean</th>\n",
       "    </tr>\n",
       "  </thead>\n",
       "  <tbody>\n",
       "    <tr>\n",
       "      <th>0</th>\n",
       "      <td>3</td>\n",
       "      <td>3</td>\n",
       "      <td>3</td>\n",
       "      <td>valid</td>\n",
       "      <td>4.360081</td>\n",
       "      <td>ewaMkuxfjfCX3ndtk0oRTw</td>\n",
       "      <td>5</td>\n",
       "      <td>4</td>\n",
       "      <td>4</td>\n",
       "    </tr>\n",
       "    <tr>\n",
       "      <th>1</th>\n",
       "      <td>5</td>\n",
       "      <td>5</td>\n",
       "      <td>5</td>\n",
       "      <td>valid</td>\n",
       "      <td>3.824301</td>\n",
       "      <td>SzkuvIpf0lcVaDgk5x2ipg</td>\n",
       "      <td>5</td>\n",
       "      <td>5</td>\n",
       "      <td>5</td>\n",
       "    </tr>\n",
       "    <tr>\n",
       "      <th>2</th>\n",
       "      <td>5</td>\n",
       "      <td>5</td>\n",
       "      <td>4</td>\n",
       "      <td>valid</td>\n",
       "      <td>2.929254</td>\n",
       "      <td>ZGg6emL3sqhyyqHD_DJEag</td>\n",
       "      <td>3</td>\n",
       "      <td>4</td>\n",
       "      <td>4</td>\n",
       "    </tr>\n",
       "    <tr>\n",
       "      <th>3</th>\n",
       "      <td>5</td>\n",
       "      <td>5</td>\n",
       "      <td>5</td>\n",
       "      <td>valid</td>\n",
       "      <td>3.088829</td>\n",
       "      <td>IXYLmBVvRVFJZEhnhE_YsQ</td>\n",
       "      <td>5</td>\n",
       "      <td>5</td>\n",
       "      <td>5</td>\n",
       "    </tr>\n",
       "    <tr>\n",
       "      <th>4</th>\n",
       "      <td>3</td>\n",
       "      <td>3</td>\n",
       "      <td>2</td>\n",
       "      <td>valid</td>\n",
       "      <td>2.831013</td>\n",
       "      <td>dao7SEXhBuMk7TieM4gEZA</td>\n",
       "      <td>3</td>\n",
       "      <td>3</td>\n",
       "      <td>3</td>\n",
       "    </tr>\n",
       "  </tbody>\n",
       "</table>\n",
       "</div>"
      ],
      "text/plain": [
       "   bert1  bert2  bert3    cat       lgb               review_id  rnn  \\\n",
       "0      3      3      3  valid  4.360081  ewaMkuxfjfCX3ndtk0oRTw    5   \n",
       "1      5      5      5  valid  3.824301  SzkuvIpf0lcVaDgk5x2ipg    5   \n",
       "2      5      5      4  valid  2.929254  ZGg6emL3sqhyyqHD_DJEag    3   \n",
       "3      5      5      5  valid  3.088829  IXYLmBVvRVFJZEhnhE_YsQ    5   \n",
       "4      3      3      2  valid  2.831013  dao7SEXhBuMk7TieM4gEZA    3   \n",
       "\n",
       "   all_mean  norm_mean  \n",
       "0         4          4  \n",
       "1         5          5  \n",
       "2         4          4  \n",
       "3         5          5  \n",
       "4         3          3  "
      ]
     },
     "execution_count": 14,
     "metadata": {},
     "output_type": "execute_result"
    }
   ],
   "source": [
    "def normalized_mean(lst):\n",
    "    lst.sort()\n",
    "    lst = lst[1:-1]\n",
    "    return np.array(lst).mean()\n",
    "\n",
    "df['norm_mean'] = df.apply(\n",
    "    lambda x: normalized_mean([x['bert1'], x['bert2'], x['bert3'], x['rnn'], x['lgb']]), axis=1)\n",
    "df['norm_mean'] = df['all_mean'].apply(lambda x: round_star(x))\n",
    "df.head()"
   ]
  },
  {
   "cell_type": "code",
   "execution_count": 15,
   "metadata": {},
   "outputs": [
    {
     "name": "stdout",
     "output_type": "stream",
     "text": [
      "accuracy: 0.685 \tprecision: 0.6247420830079342 \trecall: 0.6122394922290675 \tf1: 0.6171661965616136\n"
     ]
    }
   ],
   "source": [
    "eva('norm_mean')"
   ]
  },
  {
   "cell_type": "code",
   "execution_count": 16,
   "metadata": {},
   "outputs": [
    {
     "name": "stdout",
     "output_type": "stream",
     "text": [
      "accuracy: 0.6955 \tprecision: 0.6212697377840808 \trecall: 0.5987076558751883 \tf1: 0.6027102765173292\n",
      "accuracy: 0.684 \tprecision: 0.6162061359268345 \trecall: 0.6003210947296718 \tf1: 0.6062267975508856\n",
      "accuracy: 0.6995 \tprecision: 0.6253411371368436 \trecall: 0.6173560306045883 \tf1: 0.6186924975842738\n",
      "accuracy: 0.6475 \tprecision: 0.5452207599623294 \trecall: 0.5311110738929457 \tf1: 0.5226389273140538\n",
      "accuracy: 0.4485 \tprecision: 0.4687899120153495 \trecall: 0.40073731519981315 \tf1: 0.39445434093244286\n"
     ]
    },
    {
     "data": {
      "text/plain": [
       "(None, None, None, None, None)"
      ]
     },
     "execution_count": 16,
     "metadata": {},
     "output_type": "execute_result"
    }
   ],
   "source": [
    "df['lgb_round'] = df['lgb'].apply(lambda x: round_star(x))\n",
    "eva('bert1'), eva('bert2'), eva('bert3'), eva('rnn'), eva('lgb_round')"
   ]
  },
  {
   "cell_type": "code",
   "execution_count": 17,
   "metadata": {},
   "outputs": [
    {
     "data": {
      "text/plain": [
       "(4000, 10)"
      ]
     },
     "execution_count": 17,
     "metadata": {},
     "output_type": "execute_result"
    }
   ],
   "source": [
    "df.shape"
   ]
  },
  {
   "cell_type": "code",
   "execution_count": 18,
   "metadata": {},
   "outputs": [
    {
     "data": {
      "text/html": [
       "<div>\n",
       "<style scoped>\n",
       "    .dataframe tbody tr th:only-of-type {\n",
       "        vertical-align: middle;\n",
       "    }\n",
       "\n",
       "    .dataframe tbody tr th {\n",
       "        vertical-align: top;\n",
       "    }\n",
       "\n",
       "    .dataframe thead th {\n",
       "        text-align: right;\n",
       "    }\n",
       "</style>\n",
       "<table border=\"1\" class=\"dataframe\">\n",
       "  <thead>\n",
       "    <tr style=\"text-align: right;\">\n",
       "      <th></th>\n",
       "      <th>bert1</th>\n",
       "      <th>bert2</th>\n",
       "      <th>bert3</th>\n",
       "      <th>cat</th>\n",
       "      <th>lgb</th>\n",
       "      <th>review_id</th>\n",
       "      <th>rnn</th>\n",
       "      <th>all_mean</th>\n",
       "      <th>norm_mean</th>\n",
       "      <th>lgb_round</th>\n",
       "      <th>majority_5</th>\n",
       "    </tr>\n",
       "  </thead>\n",
       "  <tbody>\n",
       "    <tr>\n",
       "      <th>0</th>\n",
       "      <td>3</td>\n",
       "      <td>3</td>\n",
       "      <td>3</td>\n",
       "      <td>valid</td>\n",
       "      <td>4.360081</td>\n",
       "      <td>ewaMkuxfjfCX3ndtk0oRTw</td>\n",
       "      <td>5</td>\n",
       "      <td>4</td>\n",
       "      <td>4</td>\n",
       "      <td>4</td>\n",
       "      <td>3</td>\n",
       "    </tr>\n",
       "    <tr>\n",
       "      <th>1</th>\n",
       "      <td>5</td>\n",
       "      <td>5</td>\n",
       "      <td>5</td>\n",
       "      <td>valid</td>\n",
       "      <td>3.824301</td>\n",
       "      <td>SzkuvIpf0lcVaDgk5x2ipg</td>\n",
       "      <td>5</td>\n",
       "      <td>5</td>\n",
       "      <td>5</td>\n",
       "      <td>4</td>\n",
       "      <td>5</td>\n",
       "    </tr>\n",
       "    <tr>\n",
       "      <th>2</th>\n",
       "      <td>5</td>\n",
       "      <td>5</td>\n",
       "      <td>4</td>\n",
       "      <td>valid</td>\n",
       "      <td>2.929254</td>\n",
       "      <td>ZGg6emL3sqhyyqHD_DJEag</td>\n",
       "      <td>3</td>\n",
       "      <td>4</td>\n",
       "      <td>4</td>\n",
       "      <td>3</td>\n",
       "      <td>3</td>\n",
       "    </tr>\n",
       "    <tr>\n",
       "      <th>3</th>\n",
       "      <td>5</td>\n",
       "      <td>5</td>\n",
       "      <td>5</td>\n",
       "      <td>valid</td>\n",
       "      <td>3.088829</td>\n",
       "      <td>IXYLmBVvRVFJZEhnhE_YsQ</td>\n",
       "      <td>5</td>\n",
       "      <td>5</td>\n",
       "      <td>5</td>\n",
       "      <td>3</td>\n",
       "      <td>5</td>\n",
       "    </tr>\n",
       "    <tr>\n",
       "      <th>4</th>\n",
       "      <td>3</td>\n",
       "      <td>3</td>\n",
       "      <td>2</td>\n",
       "      <td>valid</td>\n",
       "      <td>2.831013</td>\n",
       "      <td>dao7SEXhBuMk7TieM4gEZA</td>\n",
       "      <td>3</td>\n",
       "      <td>3</td>\n",
       "      <td>3</td>\n",
       "      <td>3</td>\n",
       "      <td>3</td>\n",
       "    </tr>\n",
       "  </tbody>\n",
       "</table>\n",
       "</div>"
      ],
      "text/plain": [
       "   bert1  bert2  bert3    cat       lgb               review_id  rnn  \\\n",
       "0      3      3      3  valid  4.360081  ewaMkuxfjfCX3ndtk0oRTw    5   \n",
       "1      5      5      5  valid  3.824301  SzkuvIpf0lcVaDgk5x2ipg    5   \n",
       "2      5      5      4  valid  2.929254  ZGg6emL3sqhyyqHD_DJEag    3   \n",
       "3      5      5      5  valid  3.088829  IXYLmBVvRVFJZEhnhE_YsQ    5   \n",
       "4      3      3      2  valid  2.831013  dao7SEXhBuMk7TieM4gEZA    3   \n",
       "\n",
       "   all_mean  norm_mean  lgb_round  majority_5  \n",
       "0         4          4          4           3  \n",
       "1         5          5          4           5  \n",
       "2         4          4          3           3  \n",
       "3         5          5          3           5  \n",
       "4         3          3          3           3  "
      ]
     },
     "execution_count": 18,
     "metadata": {},
     "output_type": "execute_result"
    }
   ],
   "source": [
    "df['majority_5'] = df.apply(\n",
    "    lambda x: np.bincount(np.array(\n",
    "        [x['bert1'], x['bert2'], x['bert3'], x['rnn'], x['lgb_round']])).argmax(), axis=1)\n",
    "df['majority_5'] = df['majority_5'].apply(lambda x: round_star(x))\n",
    "df.head()"
   ]
  },
  {
   "cell_type": "code",
   "execution_count": 19,
   "metadata": {},
   "outputs": [
    {
     "name": "stdout",
     "output_type": "stream",
     "text": [
      "accuracy: 0.706 \tprecision: 0.6297323774772653 \trecall: 0.6158952470483465 \tf1: 0.6194785128621503\n"
     ]
    }
   ],
   "source": [
    "eva('majority_5')"
   ]
  },
  {
   "cell_type": "code",
   "execution_count": 20,
   "metadata": {},
   "outputs": [
    {
     "data": {
      "text/plain": [
       "Index(['bert1', 'bert2', 'bert3', 'cat', 'lgb', 'review_id', 'rnn', 'all_mean',\n",
       "       'norm_mean', 'lgb_round', 'majority_5'],\n",
       "      dtype='object')"
      ]
     },
     "execution_count": 20,
     "metadata": {},
     "output_type": "execute_result"
    }
   ],
   "source": [
    "df.columns"
   ]
  },
  {
   "cell_type": "code",
   "execution_count": 21,
   "metadata": {},
   "outputs": [
    {
     "name": "stdout",
     "output_type": "stream",
     "text": [
      "accuracy: 0.7035 \tprecision: 0.6325868610858352 \trecall: 0.6200954529231575 \tf1: 0.6256466337097656\n"
     ]
    }
   ],
   "source": [
    "import numpy as np\n",
    "df['bert_mean'] = df.apply(\n",
    "    lambda x: np.array([x['bert1'], x['bert2'], x['bert3']]).mean(), axis=1)\n",
    "df['bert_mean'] = df['bert_mean'].apply(lambda x: round_star(x))\n",
    "df.head()\n",
    "\n",
    "eva('bert_mean')"
   ]
  },
  {
   "cell_type": "code",
   "execution_count": 22,
   "metadata": {},
   "outputs": [
    {
     "data": {
      "text/html": [
       "<div>\n",
       "<style scoped>\n",
       "    .dataframe tbody tr th:only-of-type {\n",
       "        vertical-align: middle;\n",
       "    }\n",
       "\n",
       "    .dataframe tbody tr th {\n",
       "        vertical-align: top;\n",
       "    }\n",
       "\n",
       "    .dataframe thead th {\n",
       "        text-align: right;\n",
       "    }\n",
       "</style>\n",
       "<table border=\"1\" class=\"dataframe\">\n",
       "  <thead>\n",
       "    <tr style=\"text-align: right;\">\n",
       "      <th></th>\n",
       "      <th>bert1</th>\n",
       "      <th>bert2</th>\n",
       "      <th>bert3</th>\n",
       "      <th>cat</th>\n",
       "      <th>lgb</th>\n",
       "      <th>review_id</th>\n",
       "      <th>rnn</th>\n",
       "      <th>all_mean</th>\n",
       "      <th>norm_mean</th>\n",
       "      <th>lgb_round</th>\n",
       "      <th>majority_5</th>\n",
       "      <th>bert_mean</th>\n",
       "    </tr>\n",
       "  </thead>\n",
       "  <tbody>\n",
       "    <tr>\n",
       "      <th>0</th>\n",
       "      <td>3</td>\n",
       "      <td>3</td>\n",
       "      <td>3</td>\n",
       "      <td>valid</td>\n",
       "      <td>4.360081</td>\n",
       "      <td>ewaMkuxfjfCX3ndtk0oRTw</td>\n",
       "      <td>5</td>\n",
       "      <td>4</td>\n",
       "      <td>4</td>\n",
       "      <td>4</td>\n",
       "      <td>3</td>\n",
       "      <td>3</td>\n",
       "    </tr>\n",
       "    <tr>\n",
       "      <th>1</th>\n",
       "      <td>5</td>\n",
       "      <td>5</td>\n",
       "      <td>5</td>\n",
       "      <td>valid</td>\n",
       "      <td>3.824301</td>\n",
       "      <td>SzkuvIpf0lcVaDgk5x2ipg</td>\n",
       "      <td>5</td>\n",
       "      <td>5</td>\n",
       "      <td>5</td>\n",
       "      <td>4</td>\n",
       "      <td>5</td>\n",
       "      <td>5</td>\n",
       "    </tr>\n",
       "    <tr>\n",
       "      <th>2</th>\n",
       "      <td>5</td>\n",
       "      <td>5</td>\n",
       "      <td>4</td>\n",
       "      <td>valid</td>\n",
       "      <td>2.929254</td>\n",
       "      <td>ZGg6emL3sqhyyqHD_DJEag</td>\n",
       "      <td>3</td>\n",
       "      <td>4</td>\n",
       "      <td>4</td>\n",
       "      <td>3</td>\n",
       "      <td>3</td>\n",
       "      <td>5</td>\n",
       "    </tr>\n",
       "    <tr>\n",
       "      <th>3</th>\n",
       "      <td>5</td>\n",
       "      <td>5</td>\n",
       "      <td>5</td>\n",
       "      <td>valid</td>\n",
       "      <td>3.088829</td>\n",
       "      <td>IXYLmBVvRVFJZEhnhE_YsQ</td>\n",
       "      <td>5</td>\n",
       "      <td>5</td>\n",
       "      <td>5</td>\n",
       "      <td>3</td>\n",
       "      <td>5</td>\n",
       "      <td>5</td>\n",
       "    </tr>\n",
       "    <tr>\n",
       "      <th>4</th>\n",
       "      <td>3</td>\n",
       "      <td>3</td>\n",
       "      <td>2</td>\n",
       "      <td>valid</td>\n",
       "      <td>2.831013</td>\n",
       "      <td>dao7SEXhBuMk7TieM4gEZA</td>\n",
       "      <td>3</td>\n",
       "      <td>3</td>\n",
       "      <td>3</td>\n",
       "      <td>3</td>\n",
       "      <td>3</td>\n",
       "      <td>3</td>\n",
       "    </tr>\n",
       "    <tr>\n",
       "      <th>...</th>\n",
       "      <td>...</td>\n",
       "      <td>...</td>\n",
       "      <td>...</td>\n",
       "      <td>...</td>\n",
       "      <td>...</td>\n",
       "      <td>...</td>\n",
       "      <td>...</td>\n",
       "      <td>...</td>\n",
       "      <td>...</td>\n",
       "      <td>...</td>\n",
       "      <td>...</td>\n",
       "      <td>...</td>\n",
       "    </tr>\n",
       "    <tr>\n",
       "      <th>1995</th>\n",
       "      <td>4</td>\n",
       "      <td>4</td>\n",
       "      <td>5</td>\n",
       "      <td>test</td>\n",
       "      <td>4.648547</td>\n",
       "      <td>b7nE8KfrTQOU8QiZiLvlDA</td>\n",
       "      <td>5</td>\n",
       "      <td>5</td>\n",
       "      <td>5</td>\n",
       "      <td>5</td>\n",
       "      <td>5</td>\n",
       "      <td>4</td>\n",
       "    </tr>\n",
       "    <tr>\n",
       "      <th>1996</th>\n",
       "      <td>4</td>\n",
       "      <td>4</td>\n",
       "      <td>4</td>\n",
       "      <td>test</td>\n",
       "      <td>4.218852</td>\n",
       "      <td>TsEzGvNX8Q0aJXGZBfYQ2w</td>\n",
       "      <td>1</td>\n",
       "      <td>3</td>\n",
       "      <td>3</td>\n",
       "      <td>4</td>\n",
       "      <td>4</td>\n",
       "      <td>4</td>\n",
       "    </tr>\n",
       "    <tr>\n",
       "      <th>1997</th>\n",
       "      <td>4</td>\n",
       "      <td>4</td>\n",
       "      <td>4</td>\n",
       "      <td>test</td>\n",
       "      <td>2.354180</td>\n",
       "      <td>yuwbV4vtYheZBW4gMDLxgQ</td>\n",
       "      <td>3</td>\n",
       "      <td>3</td>\n",
       "      <td>3</td>\n",
       "      <td>2</td>\n",
       "      <td>4</td>\n",
       "      <td>4</td>\n",
       "    </tr>\n",
       "    <tr>\n",
       "      <th>1998</th>\n",
       "      <td>1</td>\n",
       "      <td>1</td>\n",
       "      <td>1</td>\n",
       "      <td>test</td>\n",
       "      <td>2.948256</td>\n",
       "      <td>uJSHhBzlC8GzZgAm_YN6TQ</td>\n",
       "      <td>1</td>\n",
       "      <td>1</td>\n",
       "      <td>1</td>\n",
       "      <td>3</td>\n",
       "      <td>1</td>\n",
       "      <td>1</td>\n",
       "    </tr>\n",
       "    <tr>\n",
       "      <th>1999</th>\n",
       "      <td>5</td>\n",
       "      <td>5</td>\n",
       "      <td>5</td>\n",
       "      <td>test</td>\n",
       "      <td>3.258648</td>\n",
       "      <td>VA5kAL4h3s3a4XnX_dQwuA</td>\n",
       "      <td>4</td>\n",
       "      <td>4</td>\n",
       "      <td>4</td>\n",
       "      <td>3</td>\n",
       "      <td>5</td>\n",
       "      <td>5</td>\n",
       "    </tr>\n",
       "  </tbody>\n",
       "</table>\n",
       "<p>4000 rows × 12 columns</p>\n",
       "</div>"
      ],
      "text/plain": [
       "      bert1  bert2  bert3    cat       lgb               review_id  rnn  \\\n",
       "0         3      3      3  valid  4.360081  ewaMkuxfjfCX3ndtk0oRTw    5   \n",
       "1         5      5      5  valid  3.824301  SzkuvIpf0lcVaDgk5x2ipg    5   \n",
       "2         5      5      4  valid  2.929254  ZGg6emL3sqhyyqHD_DJEag    3   \n",
       "3         5      5      5  valid  3.088829  IXYLmBVvRVFJZEhnhE_YsQ    5   \n",
       "4         3      3      2  valid  2.831013  dao7SEXhBuMk7TieM4gEZA    3   \n",
       "...     ...    ...    ...    ...       ...                     ...  ...   \n",
       "1995      4      4      5   test  4.648547  b7nE8KfrTQOU8QiZiLvlDA    5   \n",
       "1996      4      4      4   test  4.218852  TsEzGvNX8Q0aJXGZBfYQ2w    1   \n",
       "1997      4      4      4   test  2.354180  yuwbV4vtYheZBW4gMDLxgQ    3   \n",
       "1998      1      1      1   test  2.948256  uJSHhBzlC8GzZgAm_YN6TQ    1   \n",
       "1999      5      5      5   test  3.258648  VA5kAL4h3s3a4XnX_dQwuA    4   \n",
       "\n",
       "      all_mean  norm_mean  lgb_round  majority_5  bert_mean  \n",
       "0            4          4          4           3          3  \n",
       "1            5          5          4           5          5  \n",
       "2            4          4          3           3          5  \n",
       "3            5          5          3           5          5  \n",
       "4            3          3          3           3          3  \n",
       "...        ...        ...        ...         ...        ...  \n",
       "1995         5          5          5           5          4  \n",
       "1996         3          3          4           4          4  \n",
       "1997         3          3          2           4          4  \n",
       "1998         1          1          3           1          1  \n",
       "1999         4          4          3           5          5  \n",
       "\n",
       "[4000 rows x 12 columns]"
      ]
     },
     "execution_count": 22,
     "metadata": {},
     "output_type": "execute_result"
    }
   ],
   "source": [
    "df"
   ]
  },
  {
   "cell_type": "code",
   "execution_count": 23,
   "metadata": {},
   "outputs": [],
   "source": [
    "val = df[df.cat == 'valid'][['review_id', 'bert_mean']]\n",
    "val.columns = ['review_id', 'stars']\n",
    "val.to_csv('./data/val_bert_mean.csv', index=False)\n",
    "tst = df[df.cat == 'test'][['review_id', 'bert_mean']]\n",
    "tst.columns = ['review_id', 'stars']\n",
    "tst.to_csv('./data/tst_bert_mean.csv', index=False)"
   ]
  },
  {
   "cell_type": "code",
   "execution_count": 24,
   "metadata": {},
   "outputs": [
    {
     "name": "stdout",
     "output_type": "stream",
     "text": [
      "accuracy: 0.7035 \tprecision: 0.6325868610858352 \trecall: 0.6200954529231575 \tf1: 0.6256466337097656\n"
     ]
    }
   ],
   "source": [
    "acc = accuracy_score(y_val, val['stars'])\n",
    "p, r, f1, _ = precision_recall_fscore_support(y_val, val['stars'], average=\"macro\")\n",
    "print(\"accuracy:\", acc, \"\\tprecision:\", p, \"\\trecall:\", r, \"\\tf1:\", f1)"
   ]
  },
  {
   "cell_type": "code",
   "execution_count": 42,
   "metadata": {},
   "outputs": [],
   "source": [
    "tst.to_csv('./data/pred.csv', index=False)"
   ]
  },
  {
   "cell_type": "code",
   "execution_count": 98,
   "metadata": {},
   "outputs": [
    {
     "data": {
      "text/plain": [
       "False    1055\n",
       "True      945\n",
       "dtype: int64"
      ]
     },
     "execution_count": 98,
     "metadata": {},
     "output_type": "execute_result"
    }
   ],
   "source": [
    "test_check = pd.read_csv('./data/pred_bert_3.csv')\n",
    "test_check['rnn'] = pd.read_csv('./data/lgb_pred.csv')['predicted_star'].round()\n",
    "(test_check['rnn'] == test_check.stars).value_counts()"
   ]
  },
  {
   "cell_type": "code",
   "execution_count": 100,
   "metadata": {
    "scrolled": true
   },
   "outputs": [
    {
     "data": {
      "text/plain": [
       "False    1385\n",
       "True      615\n",
       "dtype: int64"
      ]
     },
     "execution_count": 100,
     "metadata": {},
     "output_type": "execute_result"
    }
   ],
   "source": [
    "test_check = pd.read_csv('./data/pred_bert_3.csv')\n",
    "test_check['rnn'] = pd.read_csv('./data/pred_val_bert_3.csv')['stars']\n",
    "(test_check['rnn'] == test_check.stars).value_counts()"
   ]
  },
  {
   "cell_type": "code",
   "execution_count": 47,
   "metadata": {},
   "outputs": [
    {
     "name": "stderr",
     "output_type": "stream",
     "text": [
      "100%|██████████| 16/16 [00:48<00:00,  3.61s/it]\n"
     ]
    }
   ],
   "source": [
    "import lightgbm as lgb\n",
    "from tqdm import tqdm\n",
    "from sklearn.model_selection import ParameterGrid\n",
    "\n",
    "X = df[df.cat == 'valid'][['bert1', 'bert2', 'bert3', 'rnn', 'lgb']]\n",
    "y = y_val\n",
    "\n",
    "train = lgb.Dataset(\n",
    "    data=X, \n",
    "    label=y)\n",
    "\n",
    "# tune the parameter with grid search (with cross validation)\n",
    "param_grid = {\n",
    "    'max_depth': [3, 5, 7, None],\n",
    "    'min_data_in_leaf': [1, 4, 8, 16]\n",
    "}\n",
    "\n",
    "cv_results = []\n",
    "\n",
    "for hyperparams in tqdm(list(ParameterGrid(param_grid))):\n",
    "    fixed = {\n",
    "        \"objective\": 'regression',\n",
    "        \"learning_rate\": 0.01\n",
    "    }\n",
    "    hyperparams.update(fixed)\n",
    "\n",
    "    validation_summary = lgb.cv(\n",
    "        hyperparams,\n",
    "        train,\n",
    "        num_boost_round=6000,\n",
    "        nfold=5,\n",
    "        metrics=[\"rmse\"],\n",
    "        early_stopping_rounds=500,\n",
    "        verbose_eval=None)\n",
    "\n",
    "    optimal_num_trees = len(validation_summary[\"rmse-mean\"])\n",
    "    hyperparams[\"num_boost_round\"] = optimal_num_trees\n",
    "    cv_results.append((hyperparams, validation_summary[\"rmse-mean\"][-1]))\n",
    "    \n",
    "tmp = pd.DataFrame(cv_results)\n",
    "param = list(tmp.sort_values(by=[1])[0])[0]\n",
    "train = lgb.Dataset(data=X[:1000], label=y[:1000])\n",
    "gbm = lgb.train(\n",
    "    param, \n",
    "    train_set=train, \n",
    "    num_boost_round=param['num_boost_round'])"
   ]
  },
  {
   "cell_type": "code",
   "execution_count": 49,
   "metadata": {},
   "outputs": [
    {
     "name": "stdout",
     "output_type": "stream",
     "text": [
      "accuracy: 0.675 \tprecision: 0.6158562692864693 \trecall: 0.5986992496273191 \tf1: 0.6054109712017525\n"
     ]
    }
   ],
   "source": [
    "acc = accuracy_score(y[1000:], [round_star(s) for s in gbm.predict(X[1000:])])\n",
    "p, r, f1, _ = precision_recall_fscore_support(y_val, y_val_pre, average=\"macro\")\n",
    "print(\"accuracy:\", acc, \"\\tprecision:\", p, \"\\trecall:\", r, \"\\tf1:\", f1)"
   ]
  },
  {
   "cell_type": "code",
   "execution_count": null,
   "metadata": {},
   "outputs": [],
   "source": []
  }
 ],
 "metadata": {
  "kernelspec": {
   "display_name": "Python 3",
   "language": "python",
   "name": "python3"
  },
  "language_info": {
   "codemirror_mode": {
    "name": "ipython",
    "version": 3
   },
   "file_extension": ".py",
   "mimetype": "text/x-python",
   "name": "python",
   "nbconvert_exporter": "python",
   "pygments_lexer": "ipython3",
   "version": "3.7.3"
  }
 },
 "nbformat": 4,
 "nbformat_minor": 2
}
