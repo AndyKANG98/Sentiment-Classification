{
 "cells": [
  {
   "cell_type": "code",
   "execution_count": 1,
   "metadata": {},
   "outputs": [
    {
     "data": {
      "text/html": [
       "<style>.container { width:100% !important; }</style>"
      ],
      "text/plain": [
       "<IPython.core.display.HTML object>"
      ]
     },
     "metadata": {},
     "output_type": "display_data"
    }
   ],
   "source": [
    "from IPython.core.display import display, HTML\n",
    "display(HTML(\"<style>.container { width:100% !important; }</style>\"))\n",
    "\n",
    "import warnings\n",
    "warnings.filterwarnings('ignore')"
   ]
  },
  {
   "cell_type": "code",
   "execution_count": 8,
   "metadata": {},
   "outputs": [
    {
     "data": {
      "text/html": [
       "<div>\n",
       "<style scoped>\n",
       "    .dataframe tbody tr th:only-of-type {\n",
       "        vertical-align: middle;\n",
       "    }\n",
       "\n",
       "    .dataframe tbody tr th {\n",
       "        vertical-align: top;\n",
       "    }\n",
       "\n",
       "    .dataframe thead th {\n",
       "        text-align: right;\n",
       "    }\n",
       "</style>\n",
       "<table border=\"1\" class=\"dataframe\">\n",
       "  <thead>\n",
       "    <tr style=\"text-align: right;\">\n",
       "      <th></th>\n",
       "      <th>review_id</th>\n",
       "      <th>bert1</th>\n",
       "      <th>bert2</th>\n",
       "      <th>bert3</th>\n",
       "      <th>rnn</th>\n",
       "      <th>lgb</th>\n",
       "    </tr>\n",
       "  </thead>\n",
       "  <tbody>\n",
       "    <tr>\n",
       "      <th>0</th>\n",
       "      <td>ewaMkuxfjfCX3ndtk0oRTw</td>\n",
       "      <td>3</td>\n",
       "      <td>3</td>\n",
       "      <td>3</td>\n",
       "      <td>4</td>\n",
       "      <td>4.360081</td>\n",
       "    </tr>\n",
       "    <tr>\n",
       "      <th>1</th>\n",
       "      <td>SzkuvIpf0lcVaDgk5x2ipg</td>\n",
       "      <td>5</td>\n",
       "      <td>5</td>\n",
       "      <td>5</td>\n",
       "      <td>5</td>\n",
       "      <td>3.824301</td>\n",
       "    </tr>\n",
       "    <tr>\n",
       "      <th>2</th>\n",
       "      <td>ZGg6emL3sqhyyqHD_DJEag</td>\n",
       "      <td>5</td>\n",
       "      <td>5</td>\n",
       "      <td>4</td>\n",
       "      <td>5</td>\n",
       "      <td>2.929254</td>\n",
       "    </tr>\n",
       "    <tr>\n",
       "      <th>3</th>\n",
       "      <td>IXYLmBVvRVFJZEhnhE_YsQ</td>\n",
       "      <td>5</td>\n",
       "      <td>5</td>\n",
       "      <td>5</td>\n",
       "      <td>5</td>\n",
       "      <td>3.088829</td>\n",
       "    </tr>\n",
       "    <tr>\n",
       "      <th>4</th>\n",
       "      <td>dao7SEXhBuMk7TieM4gEZA</td>\n",
       "      <td>3</td>\n",
       "      <td>3</td>\n",
       "      <td>2</td>\n",
       "      <td>2</td>\n",
       "      <td>2.831013</td>\n",
       "    </tr>\n",
       "  </tbody>\n",
       "</table>\n",
       "</div>"
      ],
      "text/plain": [
       "                review_id  bert1  bert2  bert3  rnn       lgb\n",
       "0  ewaMkuxfjfCX3ndtk0oRTw      3      3      3    4  4.360081\n",
       "1  SzkuvIpf0lcVaDgk5x2ipg      5      5      5    5  3.824301\n",
       "2  ZGg6emL3sqhyyqHD_DJEag      5      5      4    5  2.929254\n",
       "3  IXYLmBVvRVFJZEhnhE_YsQ      5      5      5    5  3.088829\n",
       "4  dao7SEXhBuMk7TieM4gEZA      3      3      2    2  2.831013"
      ]
     },
     "execution_count": 8,
     "metadata": {},
     "output_type": "execute_result"
    }
   ],
   "source": [
    "import pandas as pd\n",
    "df1 = pd.read_csv('./data/pred_val_bert.csv')\n",
    "df1.columns = ['review_id', 'bert1']\n",
    "df1['bert2'] = pd.read_csv('./data/pred_val_bert_2.csv')['stars']\n",
    "df1['bert3'] = pd.read_csv('./data/pred_val_bert_3.csv')['stars']\n",
    "df1['rnn'] = pd.read_csv('./data/valid_pred.csv')['stars']\n",
    "df1['lgb'] = pd.read_csv('./data/lgb_val.csv')['predicted_star']\n",
    "df1.head()"
   ]
  },
  {
   "cell_type": "code",
   "execution_count": 9,
   "metadata": {},
   "outputs": [],
   "source": [
    "df1['cat'] = 'valid'"
   ]
  },
  {
   "cell_type": "code",
   "execution_count": 10,
   "metadata": {},
   "outputs": [
    {
     "data": {
      "text/html": [
       "<div>\n",
       "<style scoped>\n",
       "    .dataframe tbody tr th:only-of-type {\n",
       "        vertical-align: middle;\n",
       "    }\n",
       "\n",
       "    .dataframe tbody tr th {\n",
       "        vertical-align: top;\n",
       "    }\n",
       "\n",
       "    .dataframe thead th {\n",
       "        text-align: right;\n",
       "    }\n",
       "</style>\n",
       "<table border=\"1\" class=\"dataframe\">\n",
       "  <thead>\n",
       "    <tr style=\"text-align: right;\">\n",
       "      <th></th>\n",
       "      <th>review_id</th>\n",
       "      <th>bert1</th>\n",
       "      <th>bert2</th>\n",
       "      <th>bert3</th>\n",
       "      <th>rnn</th>\n",
       "      <th>lgb</th>\n",
       "    </tr>\n",
       "  </thead>\n",
       "  <tbody>\n",
       "    <tr>\n",
       "      <th>0</th>\n",
       "      <td>ewaMkuxfjfCX3ndtk0oRTw</td>\n",
       "      <td>3</td>\n",
       "      <td>4</td>\n",
       "      <td>4</td>\n",
       "      <td>3</td>\n",
       "      <td>3.743851</td>\n",
       "    </tr>\n",
       "    <tr>\n",
       "      <th>1</th>\n",
       "      <td>SzkuvIpf0lcVaDgk5x2ipg</td>\n",
       "      <td>4</td>\n",
       "      <td>5</td>\n",
       "      <td>4</td>\n",
       "      <td>5</td>\n",
       "      <td>4.721213</td>\n",
       "    </tr>\n",
       "    <tr>\n",
       "      <th>2</th>\n",
       "      <td>ZGg6emL3sqhyyqHD_DJEag</td>\n",
       "      <td>5</td>\n",
       "      <td>5</td>\n",
       "      <td>5</td>\n",
       "      <td>5</td>\n",
       "      <td>4.268382</td>\n",
       "    </tr>\n",
       "    <tr>\n",
       "      <th>3</th>\n",
       "      <td>IXYLmBVvRVFJZEhnhE_YsQ</td>\n",
       "      <td>5</td>\n",
       "      <td>5</td>\n",
       "      <td>5</td>\n",
       "      <td>5</td>\n",
       "      <td>3.259250</td>\n",
       "    </tr>\n",
       "    <tr>\n",
       "      <th>4</th>\n",
       "      <td>dao7SEXhBuMk7TieM4gEZA</td>\n",
       "      <td>5</td>\n",
       "      <td>5</td>\n",
       "      <td>5</td>\n",
       "      <td>5</td>\n",
       "      <td>4.147467</td>\n",
       "    </tr>\n",
       "  </tbody>\n",
       "</table>\n",
       "</div>"
      ],
      "text/plain": [
       "                review_id  bert1  bert2  bert3  rnn       lgb\n",
       "0  ewaMkuxfjfCX3ndtk0oRTw      3      4      4    3  3.743851\n",
       "1  SzkuvIpf0lcVaDgk5x2ipg      4      5      4    5  4.721213\n",
       "2  ZGg6emL3sqhyyqHD_DJEag      5      5      5    5  4.268382\n",
       "3  IXYLmBVvRVFJZEhnhE_YsQ      5      5      5    5  3.259250\n",
       "4  dao7SEXhBuMk7TieM4gEZA      5      5      5    5  4.147467"
      ]
     },
     "execution_count": 10,
     "metadata": {},
     "output_type": "execute_result"
    }
   ],
   "source": [
    "df2 = pd.read_csv('./data/pred_bert.csv')\n",
    "df2.columns = ['review_id', 'bert1']\n",
    "df2['bert2'] = pd.read_csv('./data/pred_bert_2.csv')['stars']\n",
    "df2['bert3'] = pd.read_csv('./data/pred_bert_3.csv')['stars']\n",
    "df2['rnn'] = pd.read_csv('./data/test_pred.csv')['stars']\n",
    "df2['lgb'] = pd.read_csv('./data/lgb_pred.csv')['predicted_star']\n",
    "df2.head()"
   ]
  },
  {
   "cell_type": "code",
   "execution_count": 11,
   "metadata": {},
   "outputs": [],
   "source": [
    "df2['cat'] = 'test'"
   ]
  },
  {
   "cell_type": "code",
   "execution_count": 12,
   "metadata": {},
   "outputs": [
    {
     "data": {
      "text/plain": [
       "test     2000\n",
       "valid    2000\n",
       "Name: cat, dtype: int64"
      ]
     },
     "execution_count": 12,
     "metadata": {},
     "output_type": "execute_result"
    }
   ],
   "source": [
    "df = pd.concat([df1, df2])\n",
    "df['cat'].value_counts()"
   ]
  },
  {
   "cell_type": "code",
   "execution_count": 15,
   "metadata": {},
   "outputs": [],
   "source": [
    "def round_star(star):\n",
    "    if star < 1:\n",
    "        return 1\n",
    "    elif star > 5:\n",
    "        return 5\n",
    "    else:\n",
    "        return round(star)"
   ]
  },
  {
   "cell_type": "code",
   "execution_count": 16,
   "metadata": {},
   "outputs": [
    {
     "data": {
      "text/plain": [
       "Index(['review_id', 'bert1', 'bert2', 'bert3', 'rnn', 'lgb', 'cat'], dtype='object')"
      ]
     },
     "execution_count": 16,
     "metadata": {},
     "output_type": "execute_result"
    }
   ],
   "source": [
    "df.columns"
   ]
  },
  {
   "cell_type": "code",
   "execution_count": 19,
   "metadata": {},
   "outputs": [
    {
     "data": {
      "text/html": [
       "<div>\n",
       "<style scoped>\n",
       "    .dataframe tbody tr th:only-of-type {\n",
       "        vertical-align: middle;\n",
       "    }\n",
       "\n",
       "    .dataframe tbody tr th {\n",
       "        vertical-align: top;\n",
       "    }\n",
       "\n",
       "    .dataframe thead th {\n",
       "        text-align: right;\n",
       "    }\n",
       "</style>\n",
       "<table border=\"1\" class=\"dataframe\">\n",
       "  <thead>\n",
       "    <tr style=\"text-align: right;\">\n",
       "      <th></th>\n",
       "      <th>review_id</th>\n",
       "      <th>bert1</th>\n",
       "      <th>bert2</th>\n",
       "      <th>bert3</th>\n",
       "      <th>rnn</th>\n",
       "      <th>lgb</th>\n",
       "      <th>cat</th>\n",
       "      <th>all_mean</th>\n",
       "    </tr>\n",
       "  </thead>\n",
       "  <tbody>\n",
       "    <tr>\n",
       "      <th>0</th>\n",
       "      <td>ewaMkuxfjfCX3ndtk0oRTw</td>\n",
       "      <td>3</td>\n",
       "      <td>3</td>\n",
       "      <td>3</td>\n",
       "      <td>4</td>\n",
       "      <td>4.360081</td>\n",
       "      <td>valid</td>\n",
       "      <td>3</td>\n",
       "    </tr>\n",
       "    <tr>\n",
       "      <th>1</th>\n",
       "      <td>SzkuvIpf0lcVaDgk5x2ipg</td>\n",
       "      <td>5</td>\n",
       "      <td>5</td>\n",
       "      <td>5</td>\n",
       "      <td>5</td>\n",
       "      <td>3.824301</td>\n",
       "      <td>valid</td>\n",
       "      <td>5</td>\n",
       "    </tr>\n",
       "    <tr>\n",
       "      <th>2</th>\n",
       "      <td>ZGg6emL3sqhyyqHD_DJEag</td>\n",
       "      <td>5</td>\n",
       "      <td>5</td>\n",
       "      <td>4</td>\n",
       "      <td>5</td>\n",
       "      <td>2.929254</td>\n",
       "      <td>valid</td>\n",
       "      <td>4</td>\n",
       "    </tr>\n",
       "    <tr>\n",
       "      <th>3</th>\n",
       "      <td>IXYLmBVvRVFJZEhnhE_YsQ</td>\n",
       "      <td>5</td>\n",
       "      <td>5</td>\n",
       "      <td>5</td>\n",
       "      <td>5</td>\n",
       "      <td>3.088829</td>\n",
       "      <td>valid</td>\n",
       "      <td>5</td>\n",
       "    </tr>\n",
       "    <tr>\n",
       "      <th>4</th>\n",
       "      <td>dao7SEXhBuMk7TieM4gEZA</td>\n",
       "      <td>3</td>\n",
       "      <td>3</td>\n",
       "      <td>2</td>\n",
       "      <td>2</td>\n",
       "      <td>2.831013</td>\n",
       "      <td>valid</td>\n",
       "      <td>3</td>\n",
       "    </tr>\n",
       "  </tbody>\n",
       "</table>\n",
       "</div>"
      ],
      "text/plain": [
       "                review_id  bert1  bert2  bert3  rnn       lgb    cat  all_mean\n",
       "0  ewaMkuxfjfCX3ndtk0oRTw      3      3      3    4  4.360081  valid         3\n",
       "1  SzkuvIpf0lcVaDgk5x2ipg      5      5      5    5  3.824301  valid         5\n",
       "2  ZGg6emL3sqhyyqHD_DJEag      5      5      4    5  2.929254  valid         4\n",
       "3  IXYLmBVvRVFJZEhnhE_YsQ      5      5      5    5  3.088829  valid         5\n",
       "4  dao7SEXhBuMk7TieM4gEZA      3      3      2    2  2.831013  valid         3"
      ]
     },
     "execution_count": 19,
     "metadata": {},
     "output_type": "execute_result"
    }
   ],
   "source": [
    "import numpy as np\n",
    "df['all_mean'] = df.apply(\n",
    "    lambda x: np.array([x['bert1'], x['bert2'], x['bert3'], x['rnn'], x['lgb']]).mean(), axis=1)\n",
    "df['all_mean'] = df['all_mean'].apply(lambda x: round_star(x))\n",
    "df.head()"
   ]
  },
  {
   "cell_type": "code",
   "execution_count": 21,
   "metadata": {},
   "outputs": [],
   "source": [
    "va = pd.read_csv('./data/valid.csv')\n",
    "y_val = va['stars']"
   ]
  },
  {
   "cell_type": "code",
   "execution_count": 34,
   "metadata": {},
   "outputs": [
    {
     "name": "stdout",
     "output_type": "stream",
     "text": [
      "accuracy: 0.679 \tprecision: 0.6158562692864693 \trecall: 0.5986992496273191 \tf1: 0.6054109712017525\n"
     ]
    }
   ],
   "source": [
    "from sklearn.metrics import precision_recall_fscore_support, accuracy_score\n",
    "\n",
    "def eva(method):\n",
    "    y_val_pre = df[df.cat == 'valid'][method]\n",
    "    acc = accuracy_score(y_val, y_val_pre)\n",
    "    p, r, f1, _ = precision_recall_fscore_support(y_val, y_val_pre, average=\"macro\")\n",
    "    print(\"accuracy:\", acc, \"\\tprecision:\", p, \"\\trecall:\", r, \"\\tf1:\", f1)\n",
    "    \n",
    "eva('all_mean')"
   ]
  },
  {
   "cell_type": "code",
   "execution_count": null,
   "metadata": {},
   "outputs": [],
   "source": [
    "eva('bert1'), eva('bert2'), eva('bert3'), eva('rnn'), eva('lgb_round')"
   ]
  },
  {
   "cell_type": "code",
   "execution_count": 35,
   "metadata": {},
   "outputs": [
    {
     "data": {
      "text/html": [
       "<div>\n",
       "<style scoped>\n",
       "    .dataframe tbody tr th:only-of-type {\n",
       "        vertical-align: middle;\n",
       "    }\n",
       "\n",
       "    .dataframe tbody tr th {\n",
       "        vertical-align: top;\n",
       "    }\n",
       "\n",
       "    .dataframe thead th {\n",
       "        text-align: right;\n",
       "    }\n",
       "</style>\n",
       "<table border=\"1\" class=\"dataframe\">\n",
       "  <thead>\n",
       "    <tr style=\"text-align: right;\">\n",
       "      <th></th>\n",
       "      <th>review_id</th>\n",
       "      <th>bert1</th>\n",
       "      <th>bert2</th>\n",
       "      <th>bert3</th>\n",
       "      <th>rnn</th>\n",
       "      <th>lgb</th>\n",
       "      <th>cat</th>\n",
       "      <th>all_mean</th>\n",
       "      <th>norm_mean</th>\n",
       "    </tr>\n",
       "  </thead>\n",
       "  <tbody>\n",
       "    <tr>\n",
       "      <th>0</th>\n",
       "      <td>ewaMkuxfjfCX3ndtk0oRTw</td>\n",
       "      <td>3</td>\n",
       "      <td>3</td>\n",
       "      <td>3</td>\n",
       "      <td>4</td>\n",
       "      <td>4.360081</td>\n",
       "      <td>valid</td>\n",
       "      <td>3</td>\n",
       "      <td>3</td>\n",
       "    </tr>\n",
       "    <tr>\n",
       "      <th>1</th>\n",
       "      <td>SzkuvIpf0lcVaDgk5x2ipg</td>\n",
       "      <td>5</td>\n",
       "      <td>5</td>\n",
       "      <td>5</td>\n",
       "      <td>5</td>\n",
       "      <td>3.824301</td>\n",
       "      <td>valid</td>\n",
       "      <td>5</td>\n",
       "      <td>5</td>\n",
       "    </tr>\n",
       "    <tr>\n",
       "      <th>2</th>\n",
       "      <td>ZGg6emL3sqhyyqHD_DJEag</td>\n",
       "      <td>5</td>\n",
       "      <td>5</td>\n",
       "      <td>4</td>\n",
       "      <td>5</td>\n",
       "      <td>2.929254</td>\n",
       "      <td>valid</td>\n",
       "      <td>4</td>\n",
       "      <td>4</td>\n",
       "    </tr>\n",
       "    <tr>\n",
       "      <th>3</th>\n",
       "      <td>IXYLmBVvRVFJZEhnhE_YsQ</td>\n",
       "      <td>5</td>\n",
       "      <td>5</td>\n",
       "      <td>5</td>\n",
       "      <td>5</td>\n",
       "      <td>3.088829</td>\n",
       "      <td>valid</td>\n",
       "      <td>5</td>\n",
       "      <td>5</td>\n",
       "    </tr>\n",
       "    <tr>\n",
       "      <th>4</th>\n",
       "      <td>dao7SEXhBuMk7TieM4gEZA</td>\n",
       "      <td>3</td>\n",
       "      <td>3</td>\n",
       "      <td>2</td>\n",
       "      <td>2</td>\n",
       "      <td>2.831013</td>\n",
       "      <td>valid</td>\n",
       "      <td>3</td>\n",
       "      <td>3</td>\n",
       "    </tr>\n",
       "  </tbody>\n",
       "</table>\n",
       "</div>"
      ],
      "text/plain": [
       "                review_id  bert1  bert2  bert3  rnn       lgb    cat  \\\n",
       "0  ewaMkuxfjfCX3ndtk0oRTw      3      3      3    4  4.360081  valid   \n",
       "1  SzkuvIpf0lcVaDgk5x2ipg      5      5      5    5  3.824301  valid   \n",
       "2  ZGg6emL3sqhyyqHD_DJEag      5      5      4    5  2.929254  valid   \n",
       "3  IXYLmBVvRVFJZEhnhE_YsQ      5      5      5    5  3.088829  valid   \n",
       "4  dao7SEXhBuMk7TieM4gEZA      3      3      2    2  2.831013  valid   \n",
       "\n",
       "   all_mean  norm_mean  \n",
       "0         3          3  \n",
       "1         5          5  \n",
       "2         4          4  \n",
       "3         5          5  \n",
       "4         3          3  "
      ]
     },
     "execution_count": 35,
     "metadata": {},
     "output_type": "execute_result"
    }
   ],
   "source": [
    "def normalized_mean(lst):\n",
    "    lst.sort()\n",
    "    lst = lst[1:-1]\n",
    "    return np.array(lst).mean()\n",
    "\n",
    "df['norm_mean'] = df.apply(\n",
    "    lambda x: normalized_mean([x['bert1'], x['bert2'], x['bert3'], x['rnn'], x['lgb']]), axis=1)\n",
    "df['norm_mean'] = df['all_mean'].apply(lambda x: round_star(x))\n",
    "df.head()"
   ]
  },
  {
   "cell_type": "code",
   "execution_count": 38,
   "metadata": {},
   "outputs": [
    {
     "name": "stdout",
     "output_type": "stream",
     "text": [
      "accuracy: 0.679 \tprecision: 0.6158562692864693 \trecall: 0.5986992496273191 \tf1: 0.6054109712017525\n"
     ]
    }
   ],
   "source": [
    "eva('norm_mean')"
   ]
  },
  {
   "cell_type": "code",
   "execution_count": 39,
   "metadata": {},
   "outputs": [
    {
     "name": "stdout",
     "output_type": "stream",
     "text": [
      "accuracy: 0.6955 \tprecision: 0.6212697377840808 \trecall: 0.5987076558751883 \tf1: 0.6027102765173292\n",
      "accuracy: 0.684 \tprecision: 0.6162061359268345 \trecall: 0.6003210947296718 \tf1: 0.6062267975508856\n",
      "accuracy: 0.6995 \tprecision: 0.6253411371368436 \trecall: 0.6173560306045883 \tf1: 0.6186924975842738\n",
      "accuracy: 0.6345 \tprecision: 0.554561998241603 \trecall: 0.5189400144582846 \tf1: 0.5221619533184397\n",
      "accuracy: 0.4485 \tprecision: 0.4687899120153495 \trecall: 0.40073731519981315 \tf1: 0.39445434093244286\n"
     ]
    },
    {
     "data": {
      "text/plain": [
       "(None, None, None, None, None)"
      ]
     },
     "execution_count": 39,
     "metadata": {},
     "output_type": "execute_result"
    }
   ],
   "source": [
    "df['lgb_round'] = df['lgb'].apply(lambda x: round_star(x))\n",
    "eva('bert1'), eva('bert2'), eva('bert3'), eva('rnn'), eva('lgb_round')"
   ]
  },
  {
   "cell_type": "code",
   "execution_count": 40,
   "metadata": {},
   "outputs": [
    {
     "data": {
      "text/html": [
       "<div>\n",
       "<style scoped>\n",
       "    .dataframe tbody tr th:only-of-type {\n",
       "        vertical-align: middle;\n",
       "    }\n",
       "\n",
       "    .dataframe tbody tr th {\n",
       "        vertical-align: top;\n",
       "    }\n",
       "\n",
       "    .dataframe thead th {\n",
       "        text-align: right;\n",
       "    }\n",
       "</style>\n",
       "<table border=\"1\" class=\"dataframe\">\n",
       "  <thead>\n",
       "    <tr style=\"text-align: right;\">\n",
       "      <th></th>\n",
       "      <th>review_id</th>\n",
       "      <th>bert1</th>\n",
       "      <th>bert2</th>\n",
       "      <th>bert3</th>\n",
       "      <th>rnn</th>\n",
       "      <th>lgb</th>\n",
       "      <th>cat</th>\n",
       "      <th>all_mean</th>\n",
       "      <th>norm_mean</th>\n",
       "      <th>lgb_round</th>\n",
       "    </tr>\n",
       "  </thead>\n",
       "  <tbody>\n",
       "    <tr>\n",
       "      <th>0</th>\n",
       "      <td>ewaMkuxfjfCX3ndtk0oRTw</td>\n",
       "      <td>3</td>\n",
       "      <td>3</td>\n",
       "      <td>3</td>\n",
       "      <td>4</td>\n",
       "      <td>4.360081</td>\n",
       "      <td>valid</td>\n",
       "      <td>3</td>\n",
       "      <td>3</td>\n",
       "      <td>4</td>\n",
       "    </tr>\n",
       "    <tr>\n",
       "      <th>1</th>\n",
       "      <td>SzkuvIpf0lcVaDgk5x2ipg</td>\n",
       "      <td>5</td>\n",
       "      <td>5</td>\n",
       "      <td>5</td>\n",
       "      <td>5</td>\n",
       "      <td>3.824301</td>\n",
       "      <td>valid</td>\n",
       "      <td>5</td>\n",
       "      <td>5</td>\n",
       "      <td>4</td>\n",
       "    </tr>\n",
       "    <tr>\n",
       "      <th>2</th>\n",
       "      <td>ZGg6emL3sqhyyqHD_DJEag</td>\n",
       "      <td>5</td>\n",
       "      <td>5</td>\n",
       "      <td>4</td>\n",
       "      <td>5</td>\n",
       "      <td>2.929254</td>\n",
       "      <td>valid</td>\n",
       "      <td>4</td>\n",
       "      <td>4</td>\n",
       "      <td>3</td>\n",
       "    </tr>\n",
       "    <tr>\n",
       "      <th>3</th>\n",
       "      <td>IXYLmBVvRVFJZEhnhE_YsQ</td>\n",
       "      <td>5</td>\n",
       "      <td>5</td>\n",
       "      <td>5</td>\n",
       "      <td>5</td>\n",
       "      <td>3.088829</td>\n",
       "      <td>valid</td>\n",
       "      <td>5</td>\n",
       "      <td>5</td>\n",
       "      <td>3</td>\n",
       "    </tr>\n",
       "    <tr>\n",
       "      <th>4</th>\n",
       "      <td>dao7SEXhBuMk7TieM4gEZA</td>\n",
       "      <td>3</td>\n",
       "      <td>3</td>\n",
       "      <td>2</td>\n",
       "      <td>2</td>\n",
       "      <td>2.831013</td>\n",
       "      <td>valid</td>\n",
       "      <td>3</td>\n",
       "      <td>3</td>\n",
       "      <td>3</td>\n",
       "    </tr>\n",
       "  </tbody>\n",
       "</table>\n",
       "</div>"
      ],
      "text/plain": [
       "                review_id  bert1  bert2  bert3  rnn       lgb    cat  \\\n",
       "0  ewaMkuxfjfCX3ndtk0oRTw      3      3      3    4  4.360081  valid   \n",
       "1  SzkuvIpf0lcVaDgk5x2ipg      5      5      5    5  3.824301  valid   \n",
       "2  ZGg6emL3sqhyyqHD_DJEag      5      5      4    5  2.929254  valid   \n",
       "3  IXYLmBVvRVFJZEhnhE_YsQ      5      5      5    5  3.088829  valid   \n",
       "4  dao7SEXhBuMk7TieM4gEZA      3      3      2    2  2.831013  valid   \n",
       "\n",
       "   all_mean  norm_mean  lgb_round  \n",
       "0         3          3          4  \n",
       "1         5          5          4  \n",
       "2         4          4          3  \n",
       "3         5          5          3  \n",
       "4         3          3          3  "
      ]
     },
     "execution_count": 40,
     "metadata": {},
     "output_type": "execute_result"
    }
   ],
   "source": [
    "df.head()"
   ]
  },
  {
   "cell_type": "code",
   "execution_count": 41,
   "metadata": {},
   "outputs": [
    {
     "data": {
      "text/html": [
       "<div>\n",
       "<style scoped>\n",
       "    .dataframe tbody tr th:only-of-type {\n",
       "        vertical-align: middle;\n",
       "    }\n",
       "\n",
       "    .dataframe tbody tr th {\n",
       "        vertical-align: top;\n",
       "    }\n",
       "\n",
       "    .dataframe thead th {\n",
       "        text-align: right;\n",
       "    }\n",
       "</style>\n",
       "<table border=\"1\" class=\"dataframe\">\n",
       "  <thead>\n",
       "    <tr style=\"text-align: right;\">\n",
       "      <th></th>\n",
       "      <th>review_id</th>\n",
       "      <th>bert1</th>\n",
       "      <th>bert2</th>\n",
       "      <th>bert3</th>\n",
       "      <th>rnn</th>\n",
       "      <th>lgb</th>\n",
       "      <th>cat</th>\n",
       "      <th>all_mean</th>\n",
       "      <th>norm_mean</th>\n",
       "      <th>lgb_round</th>\n",
       "      <th>majority_5</th>\n",
       "    </tr>\n",
       "  </thead>\n",
       "  <tbody>\n",
       "    <tr>\n",
       "      <th>0</th>\n",
       "      <td>ewaMkuxfjfCX3ndtk0oRTw</td>\n",
       "      <td>3</td>\n",
       "      <td>3</td>\n",
       "      <td>3</td>\n",
       "      <td>4</td>\n",
       "      <td>4.360081</td>\n",
       "      <td>valid</td>\n",
       "      <td>3</td>\n",
       "      <td>3</td>\n",
       "      <td>4</td>\n",
       "      <td>3</td>\n",
       "    </tr>\n",
       "    <tr>\n",
       "      <th>1</th>\n",
       "      <td>SzkuvIpf0lcVaDgk5x2ipg</td>\n",
       "      <td>5</td>\n",
       "      <td>5</td>\n",
       "      <td>5</td>\n",
       "      <td>5</td>\n",
       "      <td>3.824301</td>\n",
       "      <td>valid</td>\n",
       "      <td>5</td>\n",
       "      <td>5</td>\n",
       "      <td>4</td>\n",
       "      <td>5</td>\n",
       "    </tr>\n",
       "    <tr>\n",
       "      <th>2</th>\n",
       "      <td>ZGg6emL3sqhyyqHD_DJEag</td>\n",
       "      <td>5</td>\n",
       "      <td>5</td>\n",
       "      <td>4</td>\n",
       "      <td>5</td>\n",
       "      <td>2.929254</td>\n",
       "      <td>valid</td>\n",
       "      <td>4</td>\n",
       "      <td>4</td>\n",
       "      <td>3</td>\n",
       "      <td>5</td>\n",
       "    </tr>\n",
       "    <tr>\n",
       "      <th>3</th>\n",
       "      <td>IXYLmBVvRVFJZEhnhE_YsQ</td>\n",
       "      <td>5</td>\n",
       "      <td>5</td>\n",
       "      <td>5</td>\n",
       "      <td>5</td>\n",
       "      <td>3.088829</td>\n",
       "      <td>valid</td>\n",
       "      <td>5</td>\n",
       "      <td>5</td>\n",
       "      <td>3</td>\n",
       "      <td>5</td>\n",
       "    </tr>\n",
       "    <tr>\n",
       "      <th>4</th>\n",
       "      <td>dao7SEXhBuMk7TieM4gEZA</td>\n",
       "      <td>3</td>\n",
       "      <td>3</td>\n",
       "      <td>2</td>\n",
       "      <td>2</td>\n",
       "      <td>2.831013</td>\n",
       "      <td>valid</td>\n",
       "      <td>3</td>\n",
       "      <td>3</td>\n",
       "      <td>3</td>\n",
       "      <td>3</td>\n",
       "    </tr>\n",
       "  </tbody>\n",
       "</table>\n",
       "</div>"
      ],
      "text/plain": [
       "                review_id  bert1  bert2  bert3  rnn       lgb    cat  \\\n",
       "0  ewaMkuxfjfCX3ndtk0oRTw      3      3      3    4  4.360081  valid   \n",
       "1  SzkuvIpf0lcVaDgk5x2ipg      5      5      5    5  3.824301  valid   \n",
       "2  ZGg6emL3sqhyyqHD_DJEag      5      5      4    5  2.929254  valid   \n",
       "3  IXYLmBVvRVFJZEhnhE_YsQ      5      5      5    5  3.088829  valid   \n",
       "4  dao7SEXhBuMk7TieM4gEZA      3      3      2    2  2.831013  valid   \n",
       "\n",
       "   all_mean  norm_mean  lgb_round  majority_5  \n",
       "0         3          3          4           3  \n",
       "1         5          5          4           5  \n",
       "2         4          4          3           5  \n",
       "3         5          5          3           5  \n",
       "4         3          3          3           3  "
      ]
     },
     "execution_count": 41,
     "metadata": {},
     "output_type": "execute_result"
    }
   ],
   "source": [
    "df['majority_5'] = df.apply(\n",
    "    lambda x: np.bincount(np.array(\n",
    "        [x['bert1'], x['bert2'], x['bert3'], x['rnn'], x['lgb_round']])).argmax(), axis=1)\n",
    "df['majority_5'] = df['majority_5'].apply(lambda x: round_star(x))\n",
    "df.head()"
   ]
  },
  {
   "cell_type": "code",
   "execution_count": 42,
   "metadata": {},
   "outputs": [
    {
     "name": "stdout",
     "output_type": "stream",
     "text": [
      "accuracy: 0.699 \tprecision: 0.6231186669002958 \trecall: 0.6076871422079646 \tf1: 0.6136311639076075\n"
     ]
    }
   ],
   "source": [
    "eva('majority_5')"
   ]
  },
  {
   "cell_type": "code",
   "execution_count": 43,
   "metadata": {},
   "outputs": [
    {
     "data": {
      "text/plain": [
       "Index(['review_id', 'bert1', 'bert2', 'bert3', 'rnn', 'lgb', 'cat', 'all_mean',\n",
       "       'norm_mean', 'lgb_round', 'majority_5'],\n",
       "      dtype='object')"
      ]
     },
     "execution_count": 43,
     "metadata": {},
     "output_type": "execute_result"
    }
   ],
   "source": [
    "df.columns"
   ]
  },
  {
   "cell_type": "code",
   "execution_count": 47,
   "metadata": {},
   "outputs": [
    {
     "name": "stderr",
     "output_type": "stream",
     "text": [
      "100%|██████████| 16/16 [00:48<00:00,  3.61s/it]\n"
     ]
    }
   ],
   "source": [
    "import lightgbm as lgb\n",
    "from tqdm import tqdm\n",
    "from sklearn.model_selection import ParameterGrid\n",
    "\n",
    "X = df[df.cat == 'valid'][['bert1', 'bert2', 'bert3', 'rnn', 'lgb']]\n",
    "y = y_val\n",
    "\n",
    "train = lgb.Dataset(\n",
    "    data=X, \n",
    "    label=y)\n",
    "\n",
    "# tune the parameter with grid search (with cross validation)\n",
    "param_grid = {\n",
    "    'max_depth': [3, 5, 7, None],\n",
    "    'min_data_in_leaf': [1, 4, 8, 16]\n",
    "}\n",
    "\n",
    "cv_results = []\n",
    "\n",
    "for hyperparams in tqdm(list(ParameterGrid(param_grid))):\n",
    "    fixed = {\n",
    "        \"objective\": 'regression',\n",
    "        \"learning_rate\": 0.01\n",
    "    }\n",
    "    hyperparams.update(fixed)\n",
    "\n",
    "    validation_summary = lgb.cv(\n",
    "        hyperparams,\n",
    "        train,\n",
    "        num_boost_round=6000,\n",
    "        nfold=5,\n",
    "        metrics=[\"rmse\"],\n",
    "        early_stopping_rounds=500,\n",
    "        verbose_eval=None)\n",
    "\n",
    "    optimal_num_trees = len(validation_summary[\"rmse-mean\"])\n",
    "    hyperparams[\"num_boost_round\"] = optimal_num_trees\n",
    "    cv_results.append((hyperparams, validation_summary[\"rmse-mean\"][-1]))\n",
    "    \n",
    "tmp = pd.DataFrame(cv_results)\n",
    "param = list(tmp.sort_values(by=[1])[0])[0]\n",
    "train = lgb.Dataset(data=X[:1000], label=y[:1000])\n",
    "gbm = lgb.train(\n",
    "    param, \n",
    "    train_set=train, \n",
    "    num_boost_round=param['num_boost_round'])"
   ]
  },
  {
   "cell_type": "code",
   "execution_count": 49,
   "metadata": {},
   "outputs": [
    {
     "name": "stdout",
     "output_type": "stream",
     "text": [
      "accuracy: 0.675 \tprecision: 0.6158562692864693 \trecall: 0.5986992496273191 \tf1: 0.6054109712017525\n"
     ]
    }
   ],
   "source": [
    "acc = accuracy_score(y[1000:], [round_star(s) for s in gbm.predict(X[1000:])])\n",
    "p, r, f1, _ = precision_recall_fscore_support(y_val, y_val_pre, average=\"macro\")\n",
    "print(\"accuracy:\", acc, \"\\tprecision:\", p, \"\\trecall:\", r, \"\\tf1:\", f1)"
   ]
  },
  {
   "cell_type": "code",
   "execution_count": null,
   "metadata": {},
   "outputs": [],
   "source": []
  }
 ],
 "metadata": {
  "kernelspec": {
   "display_name": "Python 3",
   "language": "python",
   "name": "python3"
  },
  "language_info": {
   "codemirror_mode": {
    "name": "ipython",
    "version": 3
   },
   "file_extension": ".py",
   "mimetype": "text/x-python",
   "name": "python",
   "nbconvert_exporter": "python",
   "pygments_lexer": "ipython3",
   "version": "3.7.3"
  }
 },
 "nbformat": 4,
 "nbformat_minor": 2
}
